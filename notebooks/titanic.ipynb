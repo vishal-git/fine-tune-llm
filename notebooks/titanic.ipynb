{
 "cells": [
  {
   "cell_type": "markdown",
   "id": "8e1b1fd3-6e78-49f7-a42d-4663561c4d1b",
   "metadata": {},
   "source": [
    "This notebook contains a step-by-step guide for fine-tuning `gpt-3.5-turbo` model. We will use the Titanic dataset for this tutorial. We will first build a (simple) classification model using the target label `survived`. Then we will use Shapley analysis to identify features that contributed to each passenger's survival estimate. The ouput from Shapley analysis will then be used to fine-tune an LLM model. We would like to fine-tune a GPT model in such a way that when we provide the output data points from the Shapley analysis to the LLM model, it should be able to generate a summary in plain English that explains why the passenger did or did not survive. "
   ]
  },
  {
   "cell_type": "markdown",
   "id": "11fd2cd7-7a3e-4bec-9b37-caefc9495b6a",
   "metadata": {},
   "source": [
    "Here are the steps we will follow:\n",
    "\n",
    "1. Read the Titanic dataset and prepare the data for modeling.\n",
    "2. Build a simple classification model.\n",
    "3. Perform Shapley analysis to identify the top contributors for each passanger.\n",
    "4. Prepare training data for fine-tuning a GPT model (by converting Shapley output into plain English).\n",
    "5. Fine-tune `gpt-3.5-turbo` using the training data prepared in the previous step.\n",
    "6. Make inference on a new passenger (not in the training data) to make sure that the fine-tuned model is working as expected.\n",
    "7. Build a Gradio UI where a user can choose a passanger and view the results."
   ]
  },
  {
   "cell_type": "markdown",
   "id": "1ebebd60-7d0b-45c2-b78e-318a1585902a",
   "metadata": {},
   "source": [
    "This notebook is organized into three sections: 1. Classification Model, 2. Shapley Analysis, and 3. Fine-tuning."
   ]
  },
  {
   "cell_type": "markdown",
   "id": "3435587c-9ff2-4c1c-8401-5ddd9f2e71e9",
   "metadata": {},
   "source": [
    "### Import packages"
   ]
  },
  {
   "cell_type": "code",
   "execution_count": 71,
   "id": "162211a5-6b9f-49d4-a7a9-654a043b868d",
   "metadata": {},
   "outputs": [],
   "source": [
    "# data processing\n",
    "import pandas as pd\n",
    "import numpy as np\n",
    "# modeling\n",
    "from sklearn.ensemble import RandomForestClassifier\n",
    "import joblib\n",
    "# shapley analysis\n",
    "import shap\n",
    "# utilities\n",
    "from pprint import pprint\n",
    "import json\n",
    "import os\n",
    "import sys\n",
    "# gradio UI\n",
    "import gradio as gr\n",
    "import matplotlib.pyplot as plt\n",
    "import tempfile\n",
    "# openai\n",
    "from openai import OpenAI\n",
    "from dotenv import find_dotenv, load_dotenv"
   ]
  },
  {
   "cell_type": "markdown",
   "id": "636ed0ed-482f-47eb-bf98-c6244e0a97aa",
   "metadata": {},
   "source": [
    "### Read the dataset"
   ]
  },
  {
   "cell_type": "code",
   "execution_count": 2,
   "id": "efe0479e-5cab-498d-90ba-5210ed65d5ac",
   "metadata": {},
   "outputs": [
    {
     "data": {
      "text/html": [
       "<div>\n",
       "<style scoped>\n",
       "    .dataframe tbody tr th:only-of-type {\n",
       "        vertical-align: middle;\n",
       "    }\n",
       "\n",
       "    .dataframe tbody tr th {\n",
       "        vertical-align: top;\n",
       "    }\n",
       "\n",
       "    .dataframe thead th {\n",
       "        text-align: right;\n",
       "    }\n",
       "</style>\n",
       "<table border=\"1\" class=\"dataframe\">\n",
       "  <thead>\n",
       "    <tr style=\"text-align: right;\">\n",
       "      <th></th>\n",
       "      <th>Survived</th>\n",
       "      <th>Ticket Class</th>\n",
       "      <th>Sex</th>\n",
       "      <th>Age</th>\n",
       "      <th>Siblings</th>\n",
       "      <th>Family Members</th>\n",
       "      <th>Fare</th>\n",
       "      <th>Cabin</th>\n",
       "      <th>Embarked</th>\n",
       "    </tr>\n",
       "    <tr>\n",
       "      <th>Name</th>\n",
       "      <th></th>\n",
       "      <th></th>\n",
       "      <th></th>\n",
       "      <th></th>\n",
       "      <th></th>\n",
       "      <th></th>\n",
       "      <th></th>\n",
       "      <th></th>\n",
       "      <th></th>\n",
       "    </tr>\n",
       "  </thead>\n",
       "  <tbody>\n",
       "    <tr>\n",
       "      <th>Braund, Mr. Owen Harris</th>\n",
       "      <td>0</td>\n",
       "      <td>Lower</td>\n",
       "      <td>male</td>\n",
       "      <td>22.0</td>\n",
       "      <td>1</td>\n",
       "      <td>1</td>\n",
       "      <td>7.2500</td>\n",
       "      <td>NaN</td>\n",
       "      <td>Southampton</td>\n",
       "    </tr>\n",
       "    <tr>\n",
       "      <th>Cumings, Mrs. John Bradley (Florence Briggs Thayer)</th>\n",
       "      <td>1</td>\n",
       "      <td>Upper</td>\n",
       "      <td>female</td>\n",
       "      <td>38.0</td>\n",
       "      <td>1</td>\n",
       "      <td>1</td>\n",
       "      <td>71.2833</td>\n",
       "      <td>C85</td>\n",
       "      <td>Cherbourg</td>\n",
       "    </tr>\n",
       "    <tr>\n",
       "      <th>Heikkinen, Miss. Laina</th>\n",
       "      <td>1</td>\n",
       "      <td>Lower</td>\n",
       "      <td>female</td>\n",
       "      <td>26.0</td>\n",
       "      <td>0</td>\n",
       "      <td>1</td>\n",
       "      <td>7.9250</td>\n",
       "      <td>NaN</td>\n",
       "      <td>Southampton</td>\n",
       "    </tr>\n",
       "    <tr>\n",
       "      <th>Futrelle, Mrs. Jacques Heath (Lily May Peel)</th>\n",
       "      <td>1</td>\n",
       "      <td>Upper</td>\n",
       "      <td>female</td>\n",
       "      <td>35.0</td>\n",
       "      <td>1</td>\n",
       "      <td>1</td>\n",
       "      <td>53.1000</td>\n",
       "      <td>C123</td>\n",
       "      <td>Southampton</td>\n",
       "    </tr>\n",
       "    <tr>\n",
       "      <th>Allen, Mr. William Henry</th>\n",
       "      <td>0</td>\n",
       "      <td>Lower</td>\n",
       "      <td>male</td>\n",
       "      <td>35.0</td>\n",
       "      <td>0</td>\n",
       "      <td>1</td>\n",
       "      <td>8.0500</td>\n",
       "      <td>NaN</td>\n",
       "      <td>Southampton</td>\n",
       "    </tr>\n",
       "    <tr>\n",
       "      <th>Moran, Mr. James</th>\n",
       "      <td>0</td>\n",
       "      <td>Lower</td>\n",
       "      <td>male</td>\n",
       "      <td>NaN</td>\n",
       "      <td>0</td>\n",
       "      <td>1</td>\n",
       "      <td>8.4583</td>\n",
       "      <td>NaN</td>\n",
       "      <td>Queenstown</td>\n",
       "    </tr>\n",
       "    <tr>\n",
       "      <th>McCarthy, Mr. Timothy J</th>\n",
       "      <td>0</td>\n",
       "      <td>Upper</td>\n",
       "      <td>male</td>\n",
       "      <td>54.0</td>\n",
       "      <td>0</td>\n",
       "      <td>1</td>\n",
       "      <td>51.8625</td>\n",
       "      <td>E46</td>\n",
       "      <td>Southampton</td>\n",
       "    </tr>\n",
       "    <tr>\n",
       "      <th>Palsson, Master. Gosta Leonard</th>\n",
       "      <td>0</td>\n",
       "      <td>Lower</td>\n",
       "      <td>male</td>\n",
       "      <td>2.0</td>\n",
       "      <td>3</td>\n",
       "      <td>2</td>\n",
       "      <td>21.0750</td>\n",
       "      <td>NaN</td>\n",
       "      <td>Southampton</td>\n",
       "    </tr>\n",
       "    <tr>\n",
       "      <th>Johnson, Mrs. Oscar W (Elisabeth Vilhelmina Berg)</th>\n",
       "      <td>1</td>\n",
       "      <td>Lower</td>\n",
       "      <td>female</td>\n",
       "      <td>27.0</td>\n",
       "      <td>0</td>\n",
       "      <td>3</td>\n",
       "      <td>11.1333</td>\n",
       "      <td>NaN</td>\n",
       "      <td>Southampton</td>\n",
       "    </tr>\n",
       "    <tr>\n",
       "      <th>Nasser, Mrs. Nicholas (Adele Achem)</th>\n",
       "      <td>1</td>\n",
       "      <td>Middle</td>\n",
       "      <td>female</td>\n",
       "      <td>14.0</td>\n",
       "      <td>1</td>\n",
       "      <td>1</td>\n",
       "      <td>30.0708</td>\n",
       "      <td>NaN</td>\n",
       "      <td>Cherbourg</td>\n",
       "    </tr>\n",
       "    <tr>\n",
       "      <th>Sandstrom, Miss. Marguerite Rut</th>\n",
       "      <td>1</td>\n",
       "      <td>Lower</td>\n",
       "      <td>female</td>\n",
       "      <td>4.0</td>\n",
       "      <td>1</td>\n",
       "      <td>2</td>\n",
       "      <td>16.7000</td>\n",
       "      <td>G6</td>\n",
       "      <td>Southampton</td>\n",
       "    </tr>\n",
       "    <tr>\n",
       "      <th>Bonnell, Miss. Elizabeth</th>\n",
       "      <td>1</td>\n",
       "      <td>Upper</td>\n",
       "      <td>female</td>\n",
       "      <td>58.0</td>\n",
       "      <td>0</td>\n",
       "      <td>1</td>\n",
       "      <td>26.5500</td>\n",
       "      <td>C103</td>\n",
       "      <td>Southampton</td>\n",
       "    </tr>\n",
       "    <tr>\n",
       "      <th>Saundercock, Mr. William Henry</th>\n",
       "      <td>0</td>\n",
       "      <td>Lower</td>\n",
       "      <td>male</td>\n",
       "      <td>20.0</td>\n",
       "      <td>0</td>\n",
       "      <td>1</td>\n",
       "      <td>8.0500</td>\n",
       "      <td>NaN</td>\n",
       "      <td>Southampton</td>\n",
       "    </tr>\n",
       "    <tr>\n",
       "      <th>Andersson, Mr. Anders Johan</th>\n",
       "      <td>0</td>\n",
       "      <td>Lower</td>\n",
       "      <td>male</td>\n",
       "      <td>39.0</td>\n",
       "      <td>1</td>\n",
       "      <td>6</td>\n",
       "      <td>31.2750</td>\n",
       "      <td>NaN</td>\n",
       "      <td>Southampton</td>\n",
       "    </tr>\n",
       "    <tr>\n",
       "      <th>Vestrom, Miss. Hulda Amanda Adolfina</th>\n",
       "      <td>0</td>\n",
       "      <td>Lower</td>\n",
       "      <td>female</td>\n",
       "      <td>14.0</td>\n",
       "      <td>0</td>\n",
       "      <td>1</td>\n",
       "      <td>7.8542</td>\n",
       "      <td>NaN</td>\n",
       "      <td>Southampton</td>\n",
       "    </tr>\n",
       "    <tr>\n",
       "      <th>Hewlett, Mrs. (Mary D Kingcome)</th>\n",
       "      <td>1</td>\n",
       "      <td>Middle</td>\n",
       "      <td>female</td>\n",
       "      <td>55.0</td>\n",
       "      <td>0</td>\n",
       "      <td>1</td>\n",
       "      <td>16.0000</td>\n",
       "      <td>NaN</td>\n",
       "      <td>Southampton</td>\n",
       "    </tr>\n",
       "    <tr>\n",
       "      <th>Rice, Master. Eugene</th>\n",
       "      <td>0</td>\n",
       "      <td>Lower</td>\n",
       "      <td>male</td>\n",
       "      <td>2.0</td>\n",
       "      <td>4</td>\n",
       "      <td>2</td>\n",
       "      <td>29.1250</td>\n",
       "      <td>NaN</td>\n",
       "      <td>Queenstown</td>\n",
       "    </tr>\n",
       "    <tr>\n",
       "      <th>Williams, Mr. Charles Eugene</th>\n",
       "      <td>1</td>\n",
       "      <td>Middle</td>\n",
       "      <td>male</td>\n",
       "      <td>NaN</td>\n",
       "      <td>0</td>\n",
       "      <td>1</td>\n",
       "      <td>13.0000</td>\n",
       "      <td>NaN</td>\n",
       "      <td>Southampton</td>\n",
       "    </tr>\n",
       "    <tr>\n",
       "      <th>Vander Planke, Mrs. Julius (Emelia Maria Vandemoortele)</th>\n",
       "      <td>0</td>\n",
       "      <td>Lower</td>\n",
       "      <td>female</td>\n",
       "      <td>31.0</td>\n",
       "      <td>1</td>\n",
       "      <td>1</td>\n",
       "      <td>18.0000</td>\n",
       "      <td>NaN</td>\n",
       "      <td>Southampton</td>\n",
       "    </tr>\n",
       "    <tr>\n",
       "      <th>Masselmani, Mrs. Fatima</th>\n",
       "      <td>1</td>\n",
       "      <td>Lower</td>\n",
       "      <td>female</td>\n",
       "      <td>NaN</td>\n",
       "      <td>0</td>\n",
       "      <td>1</td>\n",
       "      <td>7.2250</td>\n",
       "      <td>NaN</td>\n",
       "      <td>Cherbourg</td>\n",
       "    </tr>\n",
       "  </tbody>\n",
       "</table>\n",
       "</div>"
      ],
      "text/plain": [
       "                                                    Survived Ticket Class  \\\n",
       "Name                                                                        \n",
       "Braund, Mr. Owen Harris                                    0        Lower   \n",
       "Cumings, Mrs. John Bradley (Florence Briggs Tha...         1        Upper   \n",
       "Heikkinen, Miss. Laina                                     1        Lower   \n",
       "Futrelle, Mrs. Jacques Heath (Lily May Peel)               1        Upper   \n",
       "Allen, Mr. William Henry                                   0        Lower   \n",
       "Moran, Mr. James                                           0        Lower   \n",
       "McCarthy, Mr. Timothy J                                    0        Upper   \n",
       "Palsson, Master. Gosta Leonard                             0        Lower   \n",
       "Johnson, Mrs. Oscar W (Elisabeth Vilhelmina Berg)          1        Lower   \n",
       "Nasser, Mrs. Nicholas (Adele Achem)                        1       Middle   \n",
       "Sandstrom, Miss. Marguerite Rut                            1        Lower   \n",
       "Bonnell, Miss. Elizabeth                                   1        Upper   \n",
       "Saundercock, Mr. William Henry                             0        Lower   \n",
       "Andersson, Mr. Anders Johan                                0        Lower   \n",
       "Vestrom, Miss. Hulda Amanda Adolfina                       0        Lower   \n",
       "Hewlett, Mrs. (Mary D Kingcome)                            1       Middle   \n",
       "Rice, Master. Eugene                                       0        Lower   \n",
       "Williams, Mr. Charles Eugene                               1       Middle   \n",
       "Vander Planke, Mrs. Julius (Emelia Maria Vandem...         0        Lower   \n",
       "Masselmani, Mrs. Fatima                                    1        Lower   \n",
       "\n",
       "                                                       Sex   Age  Siblings  \\\n",
       "Name                                                                         \n",
       "Braund, Mr. Owen Harris                               male  22.0         1   \n",
       "Cumings, Mrs. John Bradley (Florence Briggs Tha...  female  38.0         1   \n",
       "Heikkinen, Miss. Laina                              female  26.0         0   \n",
       "Futrelle, Mrs. Jacques Heath (Lily May Peel)        female  35.0         1   \n",
       "Allen, Mr. William Henry                              male  35.0         0   \n",
       "Moran, Mr. James                                      male   NaN         0   \n",
       "McCarthy, Mr. Timothy J                               male  54.0         0   \n",
       "Palsson, Master. Gosta Leonard                        male   2.0         3   \n",
       "Johnson, Mrs. Oscar W (Elisabeth Vilhelmina Berg)   female  27.0         0   \n",
       "Nasser, Mrs. Nicholas (Adele Achem)                 female  14.0         1   \n",
       "Sandstrom, Miss. Marguerite Rut                     female   4.0         1   \n",
       "Bonnell, Miss. Elizabeth                            female  58.0         0   \n",
       "Saundercock, Mr. William Henry                        male  20.0         0   \n",
       "Andersson, Mr. Anders Johan                           male  39.0         1   \n",
       "Vestrom, Miss. Hulda Amanda Adolfina                female  14.0         0   \n",
       "Hewlett, Mrs. (Mary D Kingcome)                     female  55.0         0   \n",
       "Rice, Master. Eugene                                  male   2.0         4   \n",
       "Williams, Mr. Charles Eugene                          male   NaN         0   \n",
       "Vander Planke, Mrs. Julius (Emelia Maria Vandem...  female  31.0         1   \n",
       "Masselmani, Mrs. Fatima                             female   NaN         0   \n",
       "\n",
       "                                                    Family Members     Fare  \\\n",
       "Name                                                                          \n",
       "Braund, Mr. Owen Harris                                          1   7.2500   \n",
       "Cumings, Mrs. John Bradley (Florence Briggs Tha...               1  71.2833   \n",
       "Heikkinen, Miss. Laina                                           1   7.9250   \n",
       "Futrelle, Mrs. Jacques Heath (Lily May Peel)                     1  53.1000   \n",
       "Allen, Mr. William Henry                                         1   8.0500   \n",
       "Moran, Mr. James                                                 1   8.4583   \n",
       "McCarthy, Mr. Timothy J                                          1  51.8625   \n",
       "Palsson, Master. Gosta Leonard                                   2  21.0750   \n",
       "Johnson, Mrs. Oscar W (Elisabeth Vilhelmina Berg)                3  11.1333   \n",
       "Nasser, Mrs. Nicholas (Adele Achem)                              1  30.0708   \n",
       "Sandstrom, Miss. Marguerite Rut                                  2  16.7000   \n",
       "Bonnell, Miss. Elizabeth                                         1  26.5500   \n",
       "Saundercock, Mr. William Henry                                   1   8.0500   \n",
       "Andersson, Mr. Anders Johan                                      6  31.2750   \n",
       "Vestrom, Miss. Hulda Amanda Adolfina                             1   7.8542   \n",
       "Hewlett, Mrs. (Mary D Kingcome)                                  1  16.0000   \n",
       "Rice, Master. Eugene                                             2  29.1250   \n",
       "Williams, Mr. Charles Eugene                                     1  13.0000   \n",
       "Vander Planke, Mrs. Julius (Emelia Maria Vandem...               1  18.0000   \n",
       "Masselmani, Mrs. Fatima                                          1   7.2250   \n",
       "\n",
       "                                                   Cabin     Embarked  \n",
       "Name                                                                   \n",
       "Braund, Mr. Owen Harris                              NaN  Southampton  \n",
       "Cumings, Mrs. John Bradley (Florence Briggs Tha...   C85    Cherbourg  \n",
       "Heikkinen, Miss. Laina                               NaN  Southampton  \n",
       "Futrelle, Mrs. Jacques Heath (Lily May Peel)        C123  Southampton  \n",
       "Allen, Mr. William Henry                             NaN  Southampton  \n",
       "Moran, Mr. James                                     NaN   Queenstown  \n",
       "McCarthy, Mr. Timothy J                              E46  Southampton  \n",
       "Palsson, Master. Gosta Leonard                       NaN  Southampton  \n",
       "Johnson, Mrs. Oscar W (Elisabeth Vilhelmina Berg)    NaN  Southampton  \n",
       "Nasser, Mrs. Nicholas (Adele Achem)                  NaN    Cherbourg  \n",
       "Sandstrom, Miss. Marguerite Rut                       G6  Southampton  \n",
       "Bonnell, Miss. Elizabeth                            C103  Southampton  \n",
       "Saundercock, Mr. William Henry                       NaN  Southampton  \n",
       "Andersson, Mr. Anders Johan                          NaN  Southampton  \n",
       "Vestrom, Miss. Hulda Amanda Adolfina                 NaN  Southampton  \n",
       "Hewlett, Mrs. (Mary D Kingcome)                      NaN  Southampton  \n",
       "Rice, Master. Eugene                                 NaN   Queenstown  \n",
       "Williams, Mr. Charles Eugene                         NaN  Southampton  \n",
       "Vander Planke, Mrs. Julius (Emelia Maria Vandem...   NaN  Southampton  \n",
       "Masselmani, Mrs. Fatima                              NaN    Cherbourg  "
      ]
     },
     "execution_count": 2,
     "metadata": {},
     "output_type": "execute_result"
    }
   ],
   "source": [
    "df = pd.read_csv('../data/titanic.csv', index_col='Name')\n",
    "\n",
    "# let's drop unnecessary columns and rename a few\n",
    "df = df.drop(columns=['PassengerId', 'Ticket'])\\\n",
    "    .rename(columns={'Pclass': 'Ticket Class', 'Parch': 'Family Members', 'SibSp': 'Siblings'})\n",
    "\n",
    "# convert the ticket class from numeric to string\n",
    "classes = {1: 'Upper', 2: 'Middle', 3: 'Lower'}\n",
    "df['Ticket Class'] = df['Ticket Class'].map(classes)\n",
    "\n",
    "# number of people the passenger was traveling with (0 if traveling alone)\n",
    "df['Family Members'] = 1 + df['Family Members']\n",
    "\n",
    "# change the column type to categorical \n",
    "cat_cols = ['Ticket Class', 'Sex', 'Embarked']\n",
    "\n",
    "for cat_col in cat_cols:\n",
    "    df[cat_col] = df[cat_col].astype('category')\n",
    "\n",
    "# make values for `embarked` more interpretable \n",
    "ports = {'C': 'Cherbourg', 'Q': 'Queenstown', 'S': 'Southampton'}\n",
    "df['Embarked'] = df['Embarked'].map(ports)\n",
    "\n",
    "df.head(5)"
   ]
  },
  {
   "cell_type": "markdown",
   "id": "b27905be-e85f-4443-abe5-16d2a8c350ae",
   "metadata": {},
   "source": [
    "Are Cabin and Pclass the same thing?"
   ]
  },
  {
   "cell_type": "code",
   "execution_count": 3,
   "id": "041b9c61-2aa5-4723-8efa-7ff674c7aef0",
   "metadata": {},
   "outputs": [
    {
     "data": {
      "text/html": [
       "<div>\n",
       "<style scoped>\n",
       "    .dataframe tbody tr th:only-of-type {\n",
       "        vertical-align: middle;\n",
       "    }\n",
       "\n",
       "    .dataframe tbody tr th {\n",
       "        vertical-align: top;\n",
       "    }\n",
       "\n",
       "    .dataframe thead th {\n",
       "        text-align: right;\n",
       "    }\n",
       "</style>\n",
       "<table border=\"1\" class=\"dataframe\">\n",
       "  <thead>\n",
       "    <tr style=\"text-align: right;\">\n",
       "      <th>Ticket Class</th>\n",
       "      <th>Lower</th>\n",
       "      <th>Middle</th>\n",
       "      <th>Upper</th>\n",
       "    </tr>\n",
       "    <tr>\n",
       "      <th>Cabin</th>\n",
       "      <th></th>\n",
       "      <th></th>\n",
       "      <th></th>\n",
       "    </tr>\n",
       "  </thead>\n",
       "  <tbody>\n",
       "    <tr>\n",
       "      <th>False</th>\n",
       "      <td>12</td>\n",
       "      <td>16</td>\n",
       "      <td>176</td>\n",
       "    </tr>\n",
       "    <tr>\n",
       "      <th>True</th>\n",
       "      <td>479</td>\n",
       "      <td>168</td>\n",
       "      <td>40</td>\n",
       "    </tr>\n",
       "  </tbody>\n",
       "</table>\n",
       "</div>"
      ],
      "text/plain": [
       "Ticket Class  Lower  Middle  Upper\n",
       "Cabin                             \n",
       "False            12      16    176\n",
       "True            479     168     40"
      ]
     },
     "execution_count": 3,
     "metadata": {},
     "output_type": "execute_result"
    }
   ],
   "source": [
    "cabin_assigned = pd.isnull(df['Cabin'])\n",
    "\n",
    "pd.crosstab(cabin_assigned, df['Ticket Class'])"
   ]
  },
  {
   "cell_type": "markdown",
   "id": "d51278c6-b303-4011-84db-93a3a7270739",
   "metadata": {},
   "source": [
    "No. So we should use `Cabin`. Let's use a binary flag for cabin-assigned, and drop `Cabin`."
   ]
  },
  {
   "cell_type": "code",
   "execution_count": 4,
   "id": "0383a725-db7c-4f7f-8fa2-3557daa80bb4",
   "metadata": {},
   "outputs": [
    {
     "data": {
      "text/plain": [
       "Cabin\n",
       "True     687\n",
       "False    204\n",
       "Name: count, dtype: int64"
      ]
     },
     "execution_count": 4,
     "metadata": {},
     "output_type": "execute_result"
    }
   ],
   "source": [
    "df['Cabin'] = df['Cabin'].isna()\n",
    "df['Cabin'].value_counts(dropna=False)"
   ]
  },
  {
   "cell_type": "markdown",
   "id": "6b76eaed-0cc3-416a-bb09-2a2edae7cc99",
   "metadata": {},
   "source": [
    "Let's create dummies for the rest of the categorical features."
   ]
  },
  {
   "cell_type": "code",
   "execution_count": 5,
   "id": "b4146f91-2608-4c6c-b54f-450f94cbd622",
   "metadata": {},
   "outputs": [
    {
     "data": {
      "text/html": [
       "<div>\n",
       "<style scoped>\n",
       "    .dataframe tbody tr th:only-of-type {\n",
       "        vertical-align: middle;\n",
       "    }\n",
       "\n",
       "    .dataframe tbody tr th {\n",
       "        vertical-align: top;\n",
       "    }\n",
       "\n",
       "    .dataframe thead th {\n",
       "        text-align: right;\n",
       "    }\n",
       "</style>\n",
       "<table border=\"1\" class=\"dataframe\">\n",
       "  <thead>\n",
       "    <tr style=\"text-align: right;\">\n",
       "      <th></th>\n",
       "      <th>Ticket Class: Middle</th>\n",
       "      <th>Ticket Class: Upper</th>\n",
       "      <th>Sex: male</th>\n",
       "      <th>Embarked: Queenstown</th>\n",
       "      <th>Embarked: Southampton</th>\n",
       "      <th>Survived</th>\n",
       "      <th>Age</th>\n",
       "      <th>Siblings</th>\n",
       "      <th>Family Members</th>\n",
       "      <th>Fare</th>\n",
       "      <th>Cabin</th>\n",
       "    </tr>\n",
       "    <tr>\n",
       "      <th>Name</th>\n",
       "      <th></th>\n",
       "      <th></th>\n",
       "      <th></th>\n",
       "      <th></th>\n",
       "      <th></th>\n",
       "      <th></th>\n",
       "      <th></th>\n",
       "      <th></th>\n",
       "      <th></th>\n",
       "      <th></th>\n",
       "      <th></th>\n",
       "    </tr>\n",
       "  </thead>\n",
       "  <tbody>\n",
       "    <tr>\n",
       "      <th>Braund, Mr. Owen Harris</th>\n",
       "      <td>False</td>\n",
       "      <td>False</td>\n",
       "      <td>True</td>\n",
       "      <td>False</td>\n",
       "      <td>True</td>\n",
       "      <td>0</td>\n",
       "      <td>22.0</td>\n",
       "      <td>1</td>\n",
       "      <td>1</td>\n",
       "      <td>7.2500</td>\n",
       "      <td>True</td>\n",
       "    </tr>\n",
       "    <tr>\n",
       "      <th>Cumings, Mrs. John Bradley (Florence Briggs Thayer)</th>\n",
       "      <td>False</td>\n",
       "      <td>True</td>\n",
       "      <td>False</td>\n",
       "      <td>False</td>\n",
       "      <td>False</td>\n",
       "      <td>1</td>\n",
       "      <td>38.0</td>\n",
       "      <td>1</td>\n",
       "      <td>1</td>\n",
       "      <td>71.2833</td>\n",
       "      <td>False</td>\n",
       "    </tr>\n",
       "    <tr>\n",
       "      <th>Heikkinen, Miss. Laina</th>\n",
       "      <td>False</td>\n",
       "      <td>False</td>\n",
       "      <td>False</td>\n",
       "      <td>False</td>\n",
       "      <td>True</td>\n",
       "      <td>1</td>\n",
       "      <td>26.0</td>\n",
       "      <td>0</td>\n",
       "      <td>1</td>\n",
       "      <td>7.9250</td>\n",
       "      <td>True</td>\n",
       "    </tr>\n",
       "    <tr>\n",
       "      <th>Futrelle, Mrs. Jacques Heath (Lily May Peel)</th>\n",
       "      <td>False</td>\n",
       "      <td>True</td>\n",
       "      <td>False</td>\n",
       "      <td>False</td>\n",
       "      <td>True</td>\n",
       "      <td>1</td>\n",
       "      <td>35.0</td>\n",
       "      <td>1</td>\n",
       "      <td>1</td>\n",
       "      <td>53.1000</td>\n",
       "      <td>False</td>\n",
       "    </tr>\n",
       "    <tr>\n",
       "      <th>Allen, Mr. William Henry</th>\n",
       "      <td>False</td>\n",
       "      <td>False</td>\n",
       "      <td>True</td>\n",
       "      <td>False</td>\n",
       "      <td>True</td>\n",
       "      <td>0</td>\n",
       "      <td>35.0</td>\n",
       "      <td>0</td>\n",
       "      <td>1</td>\n",
       "      <td>8.0500</td>\n",
       "      <td>True</td>\n",
       "    </tr>\n",
       "  </tbody>\n",
       "</table>\n",
       "</div>"
      ],
      "text/plain": [
       "                                                    Ticket Class: Middle  \\\n",
       "Name                                                                       \n",
       "Braund, Mr. Owen Harris                                            False   \n",
       "Cumings, Mrs. John Bradley (Florence Briggs Tha...                 False   \n",
       "Heikkinen, Miss. Laina                                             False   \n",
       "Futrelle, Mrs. Jacques Heath (Lily May Peel)                       False   \n",
       "Allen, Mr. William Henry                                           False   \n",
       "\n",
       "                                                    Ticket Class: Upper  \\\n",
       "Name                                                                      \n",
       "Braund, Mr. Owen Harris                                           False   \n",
       "Cumings, Mrs. John Bradley (Florence Briggs Tha...                 True   \n",
       "Heikkinen, Miss. Laina                                            False   \n",
       "Futrelle, Mrs. Jacques Heath (Lily May Peel)                       True   \n",
       "Allen, Mr. William Henry                                          False   \n",
       "\n",
       "                                                    Sex: male  \\\n",
       "Name                                                            \n",
       "Braund, Mr. Owen Harris                                  True   \n",
       "Cumings, Mrs. John Bradley (Florence Briggs Tha...      False   \n",
       "Heikkinen, Miss. Laina                                  False   \n",
       "Futrelle, Mrs. Jacques Heath (Lily May Peel)            False   \n",
       "Allen, Mr. William Henry                                 True   \n",
       "\n",
       "                                                    Embarked: Queenstown  \\\n",
       "Name                                                                       \n",
       "Braund, Mr. Owen Harris                                            False   \n",
       "Cumings, Mrs. John Bradley (Florence Briggs Tha...                 False   \n",
       "Heikkinen, Miss. Laina                                             False   \n",
       "Futrelle, Mrs. Jacques Heath (Lily May Peel)                       False   \n",
       "Allen, Mr. William Henry                                           False   \n",
       "\n",
       "                                                    Embarked: Southampton  \\\n",
       "Name                                                                        \n",
       "Braund, Mr. Owen Harris                                              True   \n",
       "Cumings, Mrs. John Bradley (Florence Briggs Tha...                  False   \n",
       "Heikkinen, Miss. Laina                                               True   \n",
       "Futrelle, Mrs. Jacques Heath (Lily May Peel)                         True   \n",
       "Allen, Mr. William Henry                                             True   \n",
       "\n",
       "                                                    Survived   Age  Siblings  \\\n",
       "Name                                                                           \n",
       "Braund, Mr. Owen Harris                                    0  22.0         1   \n",
       "Cumings, Mrs. John Bradley (Florence Briggs Tha...         1  38.0         1   \n",
       "Heikkinen, Miss. Laina                                     1  26.0         0   \n",
       "Futrelle, Mrs. Jacques Heath (Lily May Peel)               1  35.0         1   \n",
       "Allen, Mr. William Henry                                   0  35.0         0   \n",
       "\n",
       "                                                    Family Members     Fare  \\\n",
       "Name                                                                          \n",
       "Braund, Mr. Owen Harris                                          1   7.2500   \n",
       "Cumings, Mrs. John Bradley (Florence Briggs Tha...               1  71.2833   \n",
       "Heikkinen, Miss. Laina                                           1   7.9250   \n",
       "Futrelle, Mrs. Jacques Heath (Lily May Peel)                     1  53.1000   \n",
       "Allen, Mr. William Henry                                         1   8.0500   \n",
       "\n",
       "                                                    Cabin  \n",
       "Name                                                       \n",
       "Braund, Mr. Owen Harris                              True  \n",
       "Cumings, Mrs. John Bradley (Florence Briggs Tha...  False  \n",
       "Heikkinen, Miss. Laina                               True  \n",
       "Futrelle, Mrs. Jacques Heath (Lily May Peel)        False  \n",
       "Allen, Mr. William Henry                             True  "
      ]
     },
     "execution_count": 5,
     "metadata": {},
     "output_type": "execute_result"
    }
   ],
   "source": [
    "df_dummies = pd.get_dummies(df[cat_cols], drop_first=True)\n",
    "\n",
    "df = df_dummies.merge(df.drop(columns=cat_cols), left_index=True, right_index=True)\n",
    "\n",
    "# convert underscores to colons to improve legibility\n",
    "df.columns = [x.replace('_', ': ') for x in df.columns]\n",
    "\n",
    "df.head(2)"
   ]
  },
  {
   "cell_type": "markdown",
   "id": "f2ae38e2-3e29-4d33-83ce-c65fef62c2bb",
   "metadata": {},
   "source": [
    "Are there any missing values?"
   ]
  },
  {
   "cell_type": "code",
   "execution_count": 6,
   "id": "169a96f6-15cf-4fb4-8086-04fa49486ea1",
   "metadata": {},
   "outputs": [
    {
     "data": {
      "text/plain": [
       "Age    177\n",
       "dtype: int64"
      ]
     },
     "execution_count": 6,
     "metadata": {},
     "output_type": "execute_result"
    }
   ],
   "source": [
    "miss_ct = df.isnull().sum()\n",
    "miss_ct[miss_ct != 0]"
   ]
  },
  {
   "cell_type": "markdown",
   "id": "bbec5aa4-f63b-4407-ab62-4b54f53683b3",
   "metadata": {},
   "source": [
    "`Age` has some missing values; let's just replace them with median values."
   ]
  },
  {
   "cell_type": "code",
   "execution_count": 7,
   "id": "769077eb-8a3c-4bbd-af8f-1904b11b097d",
   "metadata": {},
   "outputs": [
    {
     "data": {
      "text/plain": [
       "Ticket Class: Middle     0\n",
       "Ticket Class: Upper      0\n",
       "Sex: male                0\n",
       "Embarked: Queenstown     0\n",
       "Embarked: Southampton    0\n",
       "Survived                 0\n",
       "Age                      0\n",
       "Siblings                 0\n",
       "Family Members           0\n",
       "Fare                     0\n",
       "Cabin                    0\n",
       "age_missing              0\n",
       "dtype: int64"
      ]
     },
     "execution_count": 7,
     "metadata": {},
     "output_type": "execute_result"
    }
   ],
   "source": [
    "df['age_missing'] = df['Age'].isna()\n",
    "df['Age'] = df['Age'].fillna(df['Age'].median())\n",
    "df.isnull().sum()"
   ]
  },
  {
   "cell_type": "markdown",
   "id": "ca52705b-36c4-401a-8fd5-1a30d874e0be",
   "metadata": {},
   "source": [
    "No more missing values!"
   ]
  },
  {
   "cell_type": "markdown",
   "id": "26195edb-a177-4683-9362-7eaea0df5bc0",
   "metadata": {},
   "source": [
    "### Build a model"
   ]
  },
  {
   "cell_type": "markdown",
   "id": "ee392349-0d63-4652-b3cf-3c84c23686ac",
   "metadata": {},
   "source": [
    "Since the goal of this exercise is not to build the best model, but focus on how we can fine-tune a GPT model, we will simply train the (classification) model on the entire dataset."
   ]
  },
  {
   "cell_type": "code",
   "execution_count": 8,
   "id": "82582e61-c11c-46ad-8d9f-beb047ebdc64",
   "metadata": {},
   "outputs": [
    {
     "data": {
      "text/plain": [
       "((891, 11), (891,))"
      ]
     },
     "execution_count": 8,
     "metadata": {},
     "output_type": "execute_result"
    }
   ],
   "source": [
    "y = df['Survived']\n",
    "X = df.drop(columns=['Survived'])\n",
    "\n",
    "X.shape, y.shape"
   ]
  },
  {
   "cell_type": "markdown",
   "id": "31042211-81e3-4b5d-8f3d-e3517a06f447",
   "metadata": {},
   "source": [
    "Let's skip hyper-parameter optimization and use cherry-picked values instead."
   ]
  },
  {
   "cell_type": "code",
   "execution_count": null,
   "id": "5c53f4b8-2709-4c82-8d4b-c07754d38054",
   "metadata": {},
   "outputs": [],
   "source": [
    "clf = RandomForestClassifier(n_estimators=100, min_samples_split=0.03, random_state=314)\n",
    "clf.fit(X, y)"
   ]
  },
  {
   "cell_type": "markdown",
   "id": "41321eab-29f1-4377-bea6-4fe0cea9870f",
   "metadata": {},
   "source": [
    "Save the model."
   ]
  },
  {
   "cell_type": "code",
   "execution_count": null,
   "id": "25c104f3-130d-42ec-b407-68853cbf1981",
   "metadata": {},
   "outputs": [
    {
     "data": {
      "text/plain": [
       "['../models/titanic_model_v1.json']"
      ]
     },
     "execution_count": 9,
     "metadata": {},
     "output_type": "execute_result"
    }
   ],
   "source": [
    "joblib.dump(clf, '../models/titanic_model_v1.json')"
   ]
  },
  {
   "cell_type": "markdown",
   "id": "e583f4a6-600a-432f-a259-5a898c1ee2de",
   "metadata": {},
   "source": [
    "### Shapley analysis"
   ]
  },
  {
   "cell_type": "markdown",
   "id": "1ea0d2aa-b0d4-465c-9391-2519a7a6d29e",
   "metadata": {},
   "source": [
    "I assume that you are familiar with Shapley analysis. If not, please refer to [An introduction to explainable AI with Shapley values](https://shap.readthedocs.io/en/latest/example_notebooks/overviews/An%20introduction%20to%20explainable%20AI%20with%20Shapley%20values.html)."
   ]
  },
  {
   "cell_type": "code",
   "execution_count": 10,
   "id": "e7d54b30-4e4d-4a6d-9e0c-baf93ff9f399",
   "metadata": {},
   "outputs": [],
   "source": [
    "explainer = shap.TreeExplainer(clf)\n",
    "shap_values = explainer(X)"
   ]
  },
  {
   "cell_type": "markdown",
   "id": "6f06854f-80cf-4151-9e18-c0f119f9d2a9",
   "metadata": {},
   "source": [
    "Let's take a random passanger."
   ]
  },
  {
   "cell_type": "code",
   "execution_count": 11,
   "id": "cc7b47aa-9fb6-4ed2-b9b6-84a6248ee196",
   "metadata": {},
   "outputs": [
    {
     "name": "stdout",
     "output_type": "stream",
     "text": [
      "578\n"
     ]
    }
   ],
   "source": [
    "random_index = np.random.randint(0, len(X))\n",
    "print(random_index)"
   ]
  },
  {
   "cell_type": "code",
   "execution_count": 12,
   "id": "2b09173e-35a7-4a2a-944e-7cb94250a2b1",
   "metadata": {},
   "outputs": [],
   "source": [
    "random_index = 526 # note: the index number is different than above cuz I ran this multiple times"
   ]
  },
  {
   "cell_type": "code",
   "execution_count": 13,
   "id": "abe38c7e-eb20-42d2-ac87-a0e7cd4f608f",
   "metadata": {},
   "outputs": [
    {
     "data": {
      "text/plain": [
       "'survived'"
      ]
     },
     "execution_count": 13,
     "metadata": {},
     "output_type": "execute_result"
    }
   ],
   "source": [
    "random_person = X.iloc[random_index]\n",
    "surv = 'did not Survive' if y.iloc[random_index] == 0 else 'survived' \n",
    "surv"
   ]
  },
  {
   "cell_type": "markdown",
   "id": "8c8e0280-5a02-41b2-8b0c-9a12e651514f",
   "metadata": {},
   "source": [
    "Let's grab the Shapley values for this passanger and view the waterfall chart."
   ]
  },
  {
   "cell_type": "code",
   "execution_count": 14,
   "id": "4e27ceba-8d83-48d3-a57f-d88248437b75",
   "metadata": {},
   "outputs": [
    {
     "data": {
      "image/png": "[encoded data removed]",
      "text/plain": [
       "<Figure size 800x650 with 3 Axes>"
      ]
     },
     "metadata": {},
     "output_type": "display_data"
    }
   ],
   "source": [
    "_shap_values = shap_values[random_index, :, 1]\n",
    "shap.plots.waterfall(_shap_values)"
   ]
  },
  {
   "cell_type": "markdown",
   "id": "a3f880a3-8d59-4095-9edf-5f829c178de1",
   "metadata": {},
   "source": [
    "This chart suggests that the biggest contributor to this passenger's unfortunate demise was the fact that he was a male. There are some smaller factors that improved his chances a little (such as age and Cabin), but overall those positive factors were not large enough to offset the negative contributions from age and ticket class (Middle)."
   ]
  },
  {
   "cell_type": "markdown",
   "id": "269bac35-6d45-4fd7-a1c1-6d4e82391af5",
   "metadata": {},
   "source": [
    "We will grab overall means for all features and append them to the Shapley dataset."
   ]
  },
  {
   "cell_type": "code",
   "execution_count": 15,
   "id": "fcc2210c-bfbf-4534-9c3d-488a90177e40",
   "metadata": {},
   "outputs": [
    {
     "data": {
      "text/html": [
       "<div>\n",
       "<style scoped>\n",
       "    .dataframe tbody tr th:only-of-type {\n",
       "        vertical-align: middle;\n",
       "    }\n",
       "\n",
       "    .dataframe tbody tr th {\n",
       "        vertical-align: top;\n",
       "    }\n",
       "\n",
       "    .dataframe thead th {\n",
       "        text-align: right;\n",
       "    }\n",
       "</style>\n",
       "<table border=\"1\" class=\"dataframe\">\n",
       "  <thead>\n",
       "    <tr style=\"text-align: right;\">\n",
       "      <th></th>\n",
       "      <th>overall_avg</th>\n",
       "      <th>value</th>\n",
       "    </tr>\n",
       "  </thead>\n",
       "  <tbody>\n",
       "    <tr>\n",
       "      <th>Ticket Class: Middle</th>\n",
       "      <td>0.206510</td>\n",
       "      <td>True</td>\n",
       "    </tr>\n",
       "    <tr>\n",
       "      <th>Ticket Class: Upper</th>\n",
       "      <td>0.242424</td>\n",
       "      <td>False</td>\n",
       "    </tr>\n",
       "    <tr>\n",
       "      <th>Sex: male</th>\n",
       "      <td>0.647587</td>\n",
       "      <td>False</td>\n",
       "    </tr>\n",
       "    <tr>\n",
       "      <th>Embarked: Queenstown</th>\n",
       "      <td>0.086420</td>\n",
       "      <td>False</td>\n",
       "    </tr>\n",
       "    <tr>\n",
       "      <th>Embarked: Southampton</th>\n",
       "      <td>0.722783</td>\n",
       "      <td>True</td>\n",
       "    </tr>\n",
       "  </tbody>\n",
       "</table>\n",
       "</div>"
      ],
      "text/plain": [
       "                       overall_avg  value\n",
       "Ticket Class: Middle      0.206510   True\n",
       "Ticket Class: Upper       0.242424  False\n",
       "Sex: male                 0.647587  False\n",
       "Embarked: Queenstown      0.086420  False\n",
       "Embarked: Southampton     0.722783   True"
      ]
     },
     "execution_count": 15,
     "metadata": {},
     "output_type": "execute_result"
    }
   ],
   "source": [
    "all_means = pd.DataFrame(X.mean())\n",
    "all_means.columns = ['overall_avg']\n",
    "\n",
    "all_means['value'] = random_person.values\n",
    "all_means.head()"
   ]
  },
  {
   "cell_type": "markdown",
   "id": "e1acb08d-2c37-4647-9a28-2ed160d9056c",
   "metadata": {},
   "source": [
    "Create a consolidated Shapley dataset with all Shapley values and the overall means."
   ]
  },
  {
   "cell_type": "code",
   "execution_count": 16,
   "id": "d92f287a-40c6-45a9-bbe5-7950c7ed0957",
   "metadata": {},
   "outputs": [
    {
     "data": {
      "text/html": [
       "<div>\n",
       "<style scoped>\n",
       "    .dataframe tbody tr th:only-of-type {\n",
       "        vertical-align: middle;\n",
       "    }\n",
       "\n",
       "    .dataframe tbody tr th {\n",
       "        vertical-align: top;\n",
       "    }\n",
       "\n",
       "    .dataframe thead th {\n",
       "        text-align: right;\n",
       "    }\n",
       "</style>\n",
       "<table border=\"1\" class=\"dataframe\">\n",
       "  <thead>\n",
       "    <tr style=\"text-align: right;\">\n",
       "      <th></th>\n",
       "      <th>contribution</th>\n",
       "      <th>overall_avg</th>\n",
       "      <th>value</th>\n",
       "    </tr>\n",
       "  </thead>\n",
       "  <tbody>\n",
       "    <tr>\n",
       "      <th>Sex: male</th>\n",
       "      <td>0.368614</td>\n",
       "      <td>0.647587</td>\n",
       "      <td>False</td>\n",
       "    </tr>\n",
       "    <tr>\n",
       "      <th>Ticket Class: Middle</th>\n",
       "      <td>0.099736</td>\n",
       "      <td>0.206510</td>\n",
       "      <td>True</td>\n",
       "    </tr>\n",
       "    <tr>\n",
       "      <th>Siblings</th>\n",
       "      <td>0.018092</td>\n",
       "      <td>0.523008</td>\n",
       "      <td>0</td>\n",
       "    </tr>\n",
       "    <tr>\n",
       "      <th>age_missing</th>\n",
       "      <td>0.002236</td>\n",
       "      <td>0.198653</td>\n",
       "      <td>False</td>\n",
       "    </tr>\n",
       "    <tr>\n",
       "      <th>Family Members</th>\n",
       "      <td>0.000879</td>\n",
       "      <td>1.381594</td>\n",
       "      <td>1</td>\n",
       "    </tr>\n",
       "  </tbody>\n",
       "</table>\n",
       "</div>"
      ],
      "text/plain": [
       "                      contribution  overall_avg  value\n",
       "Sex: male                 0.368614     0.647587  False\n",
       "Ticket Class: Middle      0.099736     0.206510   True\n",
       "Siblings                  0.018092     0.523008      0\n",
       "age_missing               0.002236     0.198653  False\n",
       "Family Members            0.000879     1.381594      1"
      ]
     },
     "execution_count": 16,
     "metadata": {},
     "output_type": "execute_result"
    }
   ],
   "source": [
    "df_shap = pd.DataFrame(_shap_values.values, index=X.columns)\n",
    "df_shap.columns = ['contribution']\n",
    "\n",
    "df_shap = df_shap.merge(all_means, left_index=True, right_index=True)\\\n",
    "    .sort_values('contribution', ascending=False)\n",
    "\n",
    "df_shap.head()"
   ]
  },
  {
   "cell_type": "markdown",
   "id": "a8e43752-a580-4389-89a5-d3ee0561a1ec",
   "metadata": {},
   "source": [
    "### Prepare data for LLM"
   ]
  },
  {
   "cell_type": "markdown",
   "id": "dbebd504-dc79-4137-9f91-c712fdf8786a",
   "metadata": {},
   "source": [
    "#### Sample 1"
   ]
  },
  {
   "cell_type": "markdown",
   "id": "287bd7f2-cc4d-4a4e-8572-35efcdc97649",
   "metadata": {},
   "source": [
    "Now we need to create some explanations based on the Shapley output. These explanations will become part of the data that will be used to fine-tune a GPT model. "
   ]
  },
  {
   "cell_type": "markdown",
   "id": "63101794-4398-4682-85d6-4c7941d5bb0e",
   "metadata": {},
   "source": [
    "But first let's organize the Shapley output into text format. For simplicity (and to save some time), let's just use the top three contributors from the Shapley output and create convert that tabular data into plain text format."
   ]
  },
  {
   "cell_type": "code",
   "execution_count": 117,
   "id": "5c374b40-2686-4da6-9249-f009bb4c7fa8",
   "metadata": {},
   "outputs": [],
   "source": [
    "top_n = 3"
   ]
  },
  {
   "cell_type": "code",
   "execution_count": 17,
   "id": "31382ed0-9aed-41d7-8514-9da302ad0821",
   "metadata": {},
   "outputs": [
    {
     "name": "stdout",
     "output_type": "stream",
     "text": [
      "('Feature --> Sex: male = False, Contribution: 36.9%, Overall Average: 64.8%\\n'\n",
      " 'Feature --> Ticket Class: Middle = True, Contribution: 10.0%, Overall '\n",
      " 'Average: 20.7%\\n'\n",
      " 'Feature --> Siblings = 0, Contribution: 1.8%, Overall Average: 52.3%\\n')\n"
     ]
    }
   ],
   "source": [
    "sample_1 = ''\n",
    "\n",
    "for i, row in df_shap.head(top_n).iterrows():\n",
    "    if i == 'Fare':\n",
    "        sample_1 += f\"Feature --> {i} = ${row['value']:.0f}, Contribution: {row['contribution']:.1%}, \"\n",
    "    elif row['value'] in [True, False, 1, 0]:\n",
    "        sample_1 += f\"Feature --> {i} = {row['value']}, Contribution: {row['contribution']:.1%}, \"\n",
    "    else:\n",
    "        sample_1 += f\"Feature --> {i} = {row['value']:.1%}, Contribution: {row['contribution']:.1%}, \"\n",
    "    \n",
    "    if row['value'] in [True, False, 1, 0]:\n",
    "        sample_1 += f\"Overall Average: {row['overall_avg']:.1%}\\n\"\n",
    "    else:\n",
    "        if i == 'Fare':\n",
    "            sample_1 += f\"Overall Average: ${row['overall_avg']:.1f}\\n\"\n",
    "        else:\n",
    "            sample_1 += f\"Overall Average: {row['overall_avg']:.1f}\\n\"\n",
    "\n",
    "pprint(sample_1)"
   ]
  },
  {
   "cell_type": "markdown",
   "id": "868e0dad-e254-47ae-a302-be215ac74210",
   "metadata": {},
   "source": [
    "We will also append the outcome, aka whether the passanger survived the Titanic crash or not."
   ]
  },
  {
   "cell_type": "code",
   "execution_count": 18,
   "id": "6a6592bc-c541-4e19-a834-51ebcf5b752c",
   "metadata": {},
   "outputs": [
    {
     "name": "stdout",
     "output_type": "stream",
     "text": [
      "('Feature --> Sex: male = False, Contribution: 36.9%, Overall Average: 64.8%\\n'\n",
      " 'Feature --> Ticket Class: Middle = True, Contribution: 10.0%, Overall '\n",
      " 'Average: 20.7%\\n'\n",
      " 'Feature --> Siblings = 0, Contribution: 1.8%, Overall Average: 52.3%\\n'\n",
      " '\\n'\n",
      " 'Outcome: This passenger survived.\\n'\n",
      " '\\n')\n"
     ]
    }
   ],
   "source": [
    "sample_1 += f'\\nOutcome: This passenger {surv}.\\n\\n'\n",
    "pprint(sample_1)"
   ]
  },
  {
   "cell_type": "markdown",
   "id": "2a29e4b6-7ad5-4609-b052-a84af22ed15d",
   "metadata": {},
   "source": [
    "Based on these data points, let's manually generate some explanation for why this passager survived."
   ]
  },
  {
   "cell_type": "code",
   "execution_count": 19,
   "id": "60b8d9bc-b1ac-4784-b588-e52b55324b6e",
   "metadata": {},
   "outputs": [],
   "source": [
    "explanation_1 = \"The largest positive contributor to why this passanger survived was her gender. The fact that this passanger was a female improved her survival by as much as 36.6%. The second largest contributor was her ticket class: 'Middle', which improved her chances of survival by 10.0%. She was among the 20.7% of all passengers who were in the 'Middle' ticket class. Unlike the majority of the passengers (52.3%), she did not have any siblings, which improved her survival changes just slightly by 1.8%.\""
   ]
  },
  {
   "cell_type": "markdown",
   "id": "71f3c7bc-5420-4cdf-9859-429aa8e55e33",
   "metadata": {},
   "source": [
    "OpenAI fine-tuning API requires at least ten samples, so we will have to do this nine more time. Let's create a function."
   ]
  },
  {
   "cell_type": "markdown",
   "id": "81e5c742-99ce-40d4-adee-b2d018dc36f0",
   "metadata": {},
   "source": [
    "If you are just reading through this notebook, and would like to skip over the other nine examples, skip directly to [Prepare LLM Prompt](#llm-prompt) section."
   ]
  },
  {
   "cell_type": "code",
   "execution_count": 20,
   "id": "6a86534d-b533-422f-a897-f81b541140b1",
   "metadata": {},
   "outputs": [],
   "source": [
    "def get_sample(i=None, plot=True):\n",
    "    if i == None:\n",
    "        random_index = np.random.randint(0, len(X))\n",
    "        print(random_index)\n",
    "    else:\n",
    "        random_index = i\n",
    "        \n",
    "    random_person = X.iloc[random_index]\n",
    "    surv = 'did not Survive' if y.iloc[random_index] == 0 else 'survived' \n",
    "\n",
    "    _shap_values = shap_values[random_index, :, 1]\n",
    "    if plot == True:\n",
    "        shap.plots.waterfall(_shap_values)\n",
    "\n",
    "    all_means['value'] = random_person.values\n",
    "\n",
    "    df_shap = pd.DataFrame(_shap_values.values, index=X.columns)\n",
    "    df_shap.columns = ['contribution']\n",
    "    df_shap['abs_contribution'] = abs(df_shap['contribution'])\n",
    "    df_shap = df_shap.merge(all_means, left_index=True, right_index=True)\n",
    "    df_shap = df_shap.sort_values(by='abs_contribution', ascending=False)\n",
    "    print(df_shap.head(3))\n",
    "\n",
    "    _sample = ''\n",
    "\n",
    "    for i, row in df_shap.head(3).iterrows():\n",
    "        if i == 'Fare':\n",
    "            _sample += f\"Feature --> {i} = ${row['value']:.0f}, Contribution: {row['contribution']:.1%}, \"\n",
    "        elif (row['value'] in [True, False, 1, 0]) | (i == 'Siblings'):\n",
    "            _sample += f\"Feature --> {i} = {row['value']}, Contribution: {row['contribution']:.1%}, \"\n",
    "        else:\n",
    "            _sample += f\"Feature --> {i} = {row['value']:.1%}, Contribution: {row['contribution']:.1%}, \"\n",
    "        \n",
    "        if row['value'] in [True, False, 1, 0]:\n",
    "            _sample += f\"Overall Average: {row['overall_avg']:.1%}\\n\"\n",
    "        else:\n",
    "            if i == 'Fare':\n",
    "                _sample += f\"Overall Average: ${row['overall_avg']:.1f}\\n\"\n",
    "            else:\n",
    "                _sample += f\"Overall Average: {row['overall_avg']:.1f}\\n\"\n",
    "    \n",
    "    _sample += f'\\nOutcome: This passenger {surv}.\\n\\n'\n",
    "\n",
    "    return _sample"
   ]
  },
  {
   "cell_type": "markdown",
   "id": "0e27b70e-9d19-4c12-99b2-56170ff89e81",
   "metadata": {},
   "source": [
    "We will use this function to create nine more sample data points."
   ]
  },
  {
   "cell_type": "markdown",
   "id": "bf9862f8-4f6b-45c2-8495-6082245652b2",
   "metadata": {
    "jp-MarkdownHeadingCollapsed": true
   },
   "source": [
    "#### Sample 2"
   ]
  },
  {
   "cell_type": "code",
   "execution_count": 21,
   "id": "31d09d65-09d1-4972-ab0b-ef64b8d3bc32",
   "metadata": {},
   "outputs": [
    {
     "name": "stdout",
     "output_type": "stream",
     "text": [
      "                     contribution  abs_contribution  overall_avg  value\n",
      "Sex: male               -0.200476          0.200476     0.647587   True\n",
      "Cabin                   -0.036367          0.036367     0.771044   True\n",
      "Ticket Class: Upper     -0.024778          0.024778     0.242424  False\n"
     ]
    }
   ],
   "source": [
    "sample_2 = get_sample(800, False)"
   ]
  },
  {
   "cell_type": "code",
   "execution_count": 22,
   "id": "8dc7f515-e5fa-4fa3-9bfe-96a23bdcf120",
   "metadata": {},
   "outputs": [],
   "source": [
    "explanation_2 = \"Unfortunately, this passenger did not survive, mainly driven by the fact that he was a male, which reduced his chance of survival by -20.0%. He stayed in a Cabin, and his ticket class was 'Upper', which further reduced his changes by -3.6% and -2.5% respectively.\""
   ]
  },
  {
   "cell_type": "code",
   "execution_count": 23,
   "id": "fd38c669-121d-4df3-b6e7-e5b60a775ea0",
   "metadata": {},
   "outputs": [
    {
     "name": "stdout",
     "output_type": "stream",
     "text": [
      "('Feature --> Sex: male = True, Contribution: -20.0%, Overall Average: 64.8%\\n'\n",
      " 'Feature --> Cabin = True, Contribution: -3.6%, Overall Average: 77.1%\\n'\n",
      " 'Feature --> Ticket Class: Upper = False, Contribution: -2.5%, Overall '\n",
      " 'Average: 24.2%\\n'\n",
      " '\\n'\n",
      " 'Outcome: This passenger did not Survive.\\n'\n",
      " '\\n')\n"
     ]
    }
   ],
   "source": [
    "pprint(sample_2)"
   ]
  },
  {
   "cell_type": "markdown",
   "id": "a31bde7f-7d2d-4050-9dda-82ed98e9f6fa",
   "metadata": {
    "jp-MarkdownHeadingCollapsed": true
   },
   "source": [
    "#### Sample 3"
   ]
  },
  {
   "cell_type": "code",
   "execution_count": 24,
   "id": "cabd7c90-5567-4f50-996e-383c372ab60b",
   "metadata": {},
   "outputs": [
    {
     "data": {
      "image/png": "[encoded data removed]",
      "text/plain": [
       "<Figure size 800x650 with 3 Axes>"
      ]
     },
     "metadata": {},
     "output_type": "display_data"
    },
    {
     "name": "stdout",
     "output_type": "stream",
     "text": [
      "                      contribution  abs_contribution  overall_avg   value\n",
      "Sex: male                 0.249830          0.249830     0.647587   False\n",
      "Fare                     -0.101959          0.101959    32.204208  8.6625\n",
      "Ticket Class: Middle     -0.050638          0.050638     0.206510   False\n"
     ]
    },
    {
     "data": {
      "text/plain": [
       "'Feature --> Sex: male = False, Contribution: 25.0%, Overall Average: 64.8%\\nFeature --> Fare = $9, Contribution: -10.2%, Overall Average: $32.2\\nFeature --> Ticket Class: Middle = False, Contribution: -5.1%, Overall Average: 20.7%\\n\\nOutcome: This passenger did not Survive.\\n\\n'"
      ]
     },
     "execution_count": 24,
     "metadata": {},
     "output_type": "execute_result"
    }
   ],
   "source": [
    "sample_3 = get_sample(534)\n",
    "sample_3"
   ]
  },
  {
   "cell_type": "code",
   "execution_count": 25,
   "id": "face1590-9938-4124-80cc-1fc8794fe7a6",
   "metadata": {},
   "outputs": [
    {
     "data": {
      "text/plain": [
       "'Feature --> Sex: male = False, Contribution: 25.0%, Overall Average: 64.8%\\nFeature --> Fare = $9, Contribution: -10.2%, Overall Average: $32.2\\nFeature --> Ticket Class: Middle = False, Contribution: -5.1%, Overall Average: 20.7%\\n\\nOutcome: This passenger did not Survive.\\n\\n'"
      ]
     },
     "execution_count": 25,
     "metadata": {},
     "output_type": "execute_result"
    }
   ],
   "source": [
    "explanation_3 = \"This passanger did not survive in spite of being a female which improved her chance of survival by 25.0%. It helped that her $9 fare was much lower than the the average fare of $32.2 that everyone else paid. This had a negative contribution of -10.2% to her survival. Her ticket class was 'Middle', which further worsened her chance of survival by -5.1%\"\n",
    "\n",
    "sample_3"
   ]
  },
  {
   "cell_type": "markdown",
   "id": "257eded1-f329-49cc-8ddb-5bae43c1103d",
   "metadata": {
    "jp-MarkdownHeadingCollapsed": true
   },
   "source": [
    "#### Sample 4"
   ]
  },
  {
   "cell_type": "code",
   "execution_count": 26,
   "id": "073627f0-2b3c-4bc3-99d0-6631251b78e8",
   "metadata": {},
   "outputs": [
    {
     "name": "stdout",
     "output_type": "stream",
     "text": [
      "                       contribution  abs_contribution  overall_avg  value\n",
      "Sex: male                 -0.152750          0.152750     0.647587   True\n",
      "Embarked: Southampton      0.061513          0.061513     0.722783  False\n",
      "Siblings                   0.030024          0.030024     0.523008      2\n"
     ]
    }
   ],
   "source": [
    "sample_4 = get_sample(301, False)"
   ]
  },
  {
   "cell_type": "code",
   "execution_count": 27,
   "id": "ecd8fdbd-1fc5-41f0-a13b-aff92c11a374",
   "metadata": {},
   "outputs": [
    {
     "data": {
      "text/plain": [
       "'Feature --> Sex: male = True, Contribution: -15.3%, Overall Average: 64.8%\\nFeature --> Embarked: Southampton = False, Contribution: 6.2%, Overall Average: 72.3%\\nFeature --> Siblings = 2, Contribution: 3.0%, Overall Average: 0.5\\n\\nOutcome: This passenger survived.\\n\\n'"
      ]
     },
     "execution_count": 27,
     "metadata": {},
     "output_type": "execute_result"
    }
   ],
   "source": [
    "sample_4"
   ]
  },
  {
   "cell_type": "code",
   "execution_count": 28,
   "id": "d19461dc-2f90-4c3b-9f3c-8ad9c641f2f3",
   "metadata": {},
   "outputs": [],
   "source": [
    "explanation_4 = \"This passanger did survive in spite of being a male which reduced his chance of survival by 15.3%. It helped that he did not embark from Southampton and he was traveling with 2 siblings, which improved his probability of survival by 6.2% and 3.0% respectively.\""
   ]
  },
  {
   "cell_type": "markdown",
   "id": "ab0d19a8-22fe-4372-a6b9-5cba5ba01860",
   "metadata": {
    "jp-MarkdownHeadingCollapsed": true
   },
   "source": [
    "#### Sample 5"
   ]
  },
  {
   "cell_type": "code",
   "execution_count": 29,
   "id": "690f310b-f9c1-4bcd-b1be-886d5944852e",
   "metadata": {},
   "outputs": [
    {
     "name": "stdout",
     "output_type": "stream",
     "text": [
      "                     contribution  abs_contribution  overall_avg   value\n",
      "Sex: male               -0.129434          0.129434     0.647587    True\n",
      "Fare                    -0.041977          0.041977    32.204208  7.7958\n",
      "Ticket Class: Upper     -0.023089          0.023089     0.242424   False\n"
     ]
    }
   ],
   "source": [
    "sample_5 = get_sample(756, False)"
   ]
  },
  {
   "cell_type": "code",
   "execution_count": 30,
   "id": "589b46de-65ff-42d2-852c-b45451bb89ca",
   "metadata": {},
   "outputs": [
    {
     "data": {
      "text/plain": [
       "'Feature --> Sex: male = True, Contribution: -12.9%, Overall Average: 64.8%\\nFeature --> Fare = $8, Contribution: -4.2%, Overall Average: $32.2\\nFeature --> Ticket Class: Upper = False, Contribution: -2.3%, Overall Average: 24.2%\\n\\nOutcome: This passenger did not Survive.\\n\\n'"
      ]
     },
     "execution_count": 30,
     "metadata": {},
     "output_type": "execute_result"
    }
   ],
   "source": [
    "sample_5"
   ]
  },
  {
   "cell_type": "code",
   "execution_count": 31,
   "id": "7a999466-2076-4ada-a36a-2f99fe618e8a",
   "metadata": {},
   "outputs": [],
   "source": [
    "explanation_5 = \"There were several factors that contributed to this passangers demise: being male contributed -12.9%, and having a lowe ticket fare -- only $8 as compared to the average of $32.2 that everyone else paid -- contributed -4.2%. Also, it didn't help that his ticket class was not 'Upper'. This reduced his chances of survival by -2.3%.\""
   ]
  },
  {
   "cell_type": "markdown",
   "id": "fc7e1497-c21e-4854-aa3a-5e22447b8daa",
   "metadata": {
    "jp-MarkdownHeadingCollapsed": true
   },
   "source": [
    "#### Sample 6"
   ]
  },
  {
   "cell_type": "code",
   "execution_count": 32,
   "id": "76c7e2cd-8364-4b33-bc31-39e8e5bfdb99",
   "metadata": {},
   "outputs": [
    {
     "name": "stdout",
     "output_type": "stream",
     "text": [
      "                     contribution  abs_contribution  overall_avg     value\n",
      "Sex: male                0.268978          0.268978     0.647587     False\n",
      "Fare                     0.101691          0.101691    32.204208  247.5208\n",
      "Ticket Class: Upper      0.091127          0.091127     0.242424      True\n"
     ]
    },
    {
     "data": {
      "text/plain": [
       "'Feature --> Sex: male = False, Contribution: 26.9%, Overall Average: 64.8%\\nFeature --> Fare = $248, Contribution: 10.2%, Overall Average: $32.2\\nFeature --> Ticket Class: Upper = True, Contribution: 9.1%, Overall Average: 24.2%\\n\\nOutcome: This passenger survived.\\n\\n'"
      ]
     },
     "execution_count": 32,
     "metadata": {},
     "output_type": "execute_result"
    }
   ],
   "source": [
    "sample_6 = get_sample(299, False)\n",
    "sample_6"
   ]
  },
  {
   "cell_type": "code",
   "execution_count": 33,
   "id": "1632e2bc-4958-431a-8d64-4eb08592b94a",
   "metadata": {},
   "outputs": [],
   "source": [
    "explanation_6 = \"She survived, largely due to the fact that she was a female. This contributed as much as 26.9% to her survival. She also paid a much higher fare of $248 as compared to $32.2 that everyone else paid on average. The higher fare helped her by 10.2%. Lastly, her ticket class was 'Upper', which worked in her favor by increasing her chance of survival by 9.1%.\""
   ]
  },
  {
   "cell_type": "markdown",
   "id": "41152b69-a68b-430d-80b2-a7ea288c99d9",
   "metadata": {
    "jp-MarkdownHeadingCollapsed": true
   },
   "source": [
    "#### Sample 7"
   ]
  },
  {
   "cell_type": "code",
   "execution_count": 34,
   "id": "3f780585-3f24-4fba-9d9d-28a3c901c528",
   "metadata": {},
   "outputs": [
    {
     "name": "stdout",
     "output_type": "stream",
     "text": [
      "                     contribution  abs_contribution  overall_avg    value\n",
      "Sex: male               -0.161338          0.161338     0.647587     True\n",
      "Ticket Class: Upper      0.056736          0.056736     0.242424     True\n",
      "Fare                     0.045103          0.045103    32.204208  27.7208\n"
     ]
    },
    {
     "data": {
      "text/plain": [
       "'Feature --> Sex: male = True, Contribution: -16.1%, Overall Average: 64.8%\\nFeature --> Ticket Class: Upper = True, Contribution: 5.7%, Overall Average: 24.2%\\nFeature --> Fare = $28, Contribution: 4.5%, Overall Average: $32.2\\n\\nOutcome: This passenger did not Survive.\\n\\n'"
      ]
     },
     "execution_count": 34,
     "metadata": {},
     "output_type": "execute_result"
    }
   ],
   "source": [
    "sample_7 = get_sample(64, False)\n",
    "sample_7"
   ]
  },
  {
   "cell_type": "code",
   "execution_count": 35,
   "id": "b2e219e0-e70d-4c3f-92c2-66586cc9cef5",
   "metadata": {},
   "outputs": [],
   "source": [
    "explanation_7 = \"This passanger did not survive, mainly due to the fact that he was a male, which reduced his chance of survival by -16.1%. Two other factors, his ticket class (Upper) and low fare ($28), actually improved his chance of survival, by 5.7% and 4.5%, but this was not enough to overcome the negative factors.\""
   ]
  },
  {
   "cell_type": "markdown",
   "id": "9deee7a5-b24d-49c5-84e0-faacb5b622a5",
   "metadata": {
    "jp-MarkdownHeadingCollapsed": true
   },
   "source": [
    "#### Sample 8"
   ]
  },
  {
   "cell_type": "code",
   "execution_count": 36,
   "id": "b064d376-5ff4-4b4e-bf11-20a98de718ff",
   "metadata": {},
   "outputs": [
    {
     "name": "stdout",
     "output_type": "stream",
     "text": [
      "                     contribution  abs_contribution  overall_avg    value\n",
      "Sex: male                0.253869          0.253869     0.647587    False\n",
      "Fare                     0.101930          0.101930    32.204208  227.525\n",
      "Ticket Class: Upper      0.090677          0.090677     0.242424     True\n"
     ]
    },
    {
     "data": {
      "text/plain": [
       "'Feature --> Sex: male = False, Contribution: 25.4%, Overall Average: 64.8%\\nFeature --> Fare = $228, Contribution: 10.2%, Overall Average: $32.2\\nFeature --> Ticket Class: Upper = True, Contribution: 9.1%, Overall Average: 24.2%\\n\\nOutcome: This passenger survived.\\n\\n'"
      ]
     },
     "execution_count": 36,
     "metadata": {},
     "output_type": "execute_result"
    }
   ],
   "source": [
    "sample_8 = get_sample(700, False)\n",
    "sample_8"
   ]
  },
  {
   "cell_type": "code",
   "execution_count": 40,
   "id": "a08be995-9347-4f52-8dba-18ded383ad75",
   "metadata": {},
   "outputs": [],
   "source": [
    "explanation_8 = \"The biggest contributor to this passanger's survial was the fact that she was a female. This increased her chance of survival by as much as 25.4%. Her fare was also higher than the overall average: $228 as compared to $32.2 that everyone else paid on average. The fare further improved her chance of survival by 10.2%. It also helped that her ticket class was 'Upper', which caused a further increase of her chance of survival by 9.1%.\""
   ]
  },
  {
   "cell_type": "markdown",
   "id": "50f8a5ac-6a78-4316-82e4-3c513686b2f9",
   "metadata": {
    "jp-MarkdownHeadingCollapsed": true
   },
   "source": [
    "#### Sample 9"
   ]
  },
  {
   "cell_type": "code",
   "execution_count": 39,
   "id": "e29096f7-b171-496f-855c-20a2852bb647",
   "metadata": {},
   "outputs": [
    {
     "name": "stdout",
     "output_type": "stream",
     "text": [
      "                     contribution  abs_contribution  overall_avg     value\n",
      "Sex: male                0.268978          0.268978     0.647587     False\n",
      "Fare                     0.101691          0.101691    32.204208  247.5208\n",
      "Ticket Class: Upper      0.091127          0.091127     0.242424      True\n"
     ]
    },
    {
     "data": {
      "text/plain": [
       "'Feature --> Sex: male = False, Contribution: 26.9%, Overall Average: 64.8%\\nFeature --> Fare = $248, Contribution: 10.2%, Overall Average: $32.2\\nFeature --> Ticket Class: Upper = True, Contribution: 9.1%, Overall Average: 24.2%\\n\\nOutcome: This passenger survived.\\n\\n'"
      ]
     },
     "execution_count": 39,
     "metadata": {},
     "output_type": "execute_result"
    }
   ],
   "source": [
    "sample_9 = get_sample(299, False)\n",
    "sample_9"
   ]
  },
  {
   "cell_type": "code",
   "execution_count": 41,
   "id": "a1f92402-540e-41ba-bb00-eee6a84d9783",
   "metadata": {},
   "outputs": [],
   "source": [
    "explanation_9 = \"This passanger survived mostly because of her gender -- female -- which contributed 26.9% to her survival. Her higher fare ($248 as compared to $32.2 that everyone else paid on average) and her ticket class ('Upper') further contributed positively to her chance of survival by 10.2% and 9.1%, respectively.\""
   ]
  },
  {
   "cell_type": "markdown",
   "id": "ad555da8-461f-4725-9921-c05d9398b279",
   "metadata": {},
   "source": [
    "#### Sample 10"
   ]
  },
  {
   "cell_type": "code",
   "execution_count": 119,
   "id": "80dbe1ed-3c94-4a9e-97bc-ecb2618f895c",
   "metadata": {},
   "outputs": [
    {
     "name": "stdout",
     "output_type": "stream",
     "text": [
      "                       contribution  abs_contribution  overall_avg  value\n",
      "Sex: male                  0.270100          0.270100     0.647587  False\n",
      "Ticket Class: Middle      -0.049773          0.049773     0.206510  False\n",
      "Embarked: Southampton      0.044382          0.044382     0.722783  False\n"
     ]
    },
    {
     "data": {
      "text/plain": [
       "'Feature --> Sex: male = False, Contribution: 27.0%, Overall Average: 64.8%\\nFeature --> Ticket Class: Middle = False, Contribution: -5.0%, Overall Average: 20.7%\\nFeature --> Embarked: Southampton = False, Contribution: 4.4%, Overall Average: 72.3%\\n\\nOutcome: This passenger did not Survive.\\n\\n'"
      ]
     },
     "execution_count": 119,
     "metadata": {},
     "output_type": "execute_result"
    }
   ],
   "source": [
    "sample_10 = get_sample(240, False)\n",
    "sample_10"
   ]
  },
  {
   "cell_type": "code",
   "execution_count": 120,
   "id": "6c640a32-5cbb-4fd6-b1d8-b595a4af00f6",
   "metadata": {},
   "outputs": [],
   "source": [
    "explanation_10 = \"In spite of being a female, this passanger did not survive. He gender did contribute positively to her surival, but other factors didn't work in her favor. For example, her ticket class, 'Middle', reduced her chance of survival by -5.0%.\""
   ]
  },
  {
   "cell_type": "markdown",
   "id": "fef8b0db-dbc7-40df-a6ec-32ac13034a1a",
   "metadata": {},
   "source": [
    "Okay, so now that we have sufficient number of data points, let's proceed to fine-tuning a GPT model."
   ]
  },
  {
   "cell_type": "markdown",
   "id": "75cab3fc-4bff-42f1-ba4d-dcfbbf9ba344",
   "metadata": {},
   "source": [
    "<a id='llm-prompt'></a>\n",
    "### Prepare LLM Prompt"
   ]
  },
  {
   "cell_type": "markdown",
   "id": "d568afd5-c5e4-41ec-ab63-792d6569fbd1",
   "metadata": {},
   "source": [
    "First, we will need a system prompt."
   ]
  },
  {
   "cell_type": "code",
   "execution_count": 46,
   "id": "a7e60de9-db10-4be5-8572-06aa563de9d4",
   "metadata": {},
   "outputs": [],
   "source": [
    "system_message = \"You can parse tabular data that contains information about various attributes of a passanger who was on the Titanic ship. Each attribute's contribution -- positive or negative -- to the passanger's survival is shown. The data also shows the value of that attribute for this passanger as well as the value across all passangers on the shop. Do not make up any numbers. Use numbers provided in the dataset only and generate an explanation for why this person did or did not survive the crash.\""
   ]
  },
  {
   "cell_type": "markdown",
   "id": "7974bf1d-3000-4e26-81bf-07692baa06c4",
   "metadata": {},
   "source": [
    "Second, we will loop through all the data points that we have created manually, and add them to `messages` list that will be used for fune-tuning."
   ]
  },
  {
   "cell_type": "code",
   "execution_count": 45,
   "id": "8fc8cba8-2b4f-4ba5-8a9d-187e34d51530",
   "metadata": {},
   "outputs": [],
   "source": [
    "samples = [sample_1, sample_2, sample_3, sample_4, sample_5,\n",
    "          sample_6, sample_7, sample_8, sample_9, sample_10]\n",
    "\n",
    "explanations = [explanation_1, explanation_2, explanation_3, explanation_4, explanation_5, \n",
    "               explanation_6, explanation_7, explanation_8, explanation_9, explanation_10]"
   ]
  },
  {
   "cell_type": "code",
   "execution_count": 47,
   "id": "5aad920d-59d4-4490-bc9e-e009342f3daf",
   "metadata": {
    "collapsed": true,
    "jupyter": {
     "outputs_hidden": true
    }
   },
   "outputs": [
    {
     "name": "stdout",
     "output_type": "stream",
     "text": [
      "[{'messages': [{'content': 'You can parse tabular data that contains '\n",
      "                           'information about various attributes of a '\n",
      "                           'passanger who was on the Titanic ship. Each '\n",
      "                           \"attribute's contribution -- positive or negative \"\n",
      "                           \"-- to the passanger's survival is shown. The data \"\n",
      "                           'also shows the value of that attribute for this '\n",
      "                           'passanger as well as the value across all '\n",
      "                           'passangers on the shop. Do not make up any '\n",
      "                           'numbers. Use numbers provided in the dataset only '\n",
      "                           'and generate an explanation for why this person '\n",
      "                           'did or did not survive the crash.',\n",
      "                'role': 'system'},\n",
      "               {'content': 'Feature --> Sex: male = False, Contribution: '\n",
      "                           '36.9%, Overall Average: 64.8%\\n'\n",
      "                           'Feature --> Ticket Class: Middle = True, '\n",
      "                           'Contribution: 10.0%, Overall Average: 20.7%\\n'\n",
      "                           'Feature --> Siblings = 0, Contribution: 1.8%, '\n",
      "                           'Overall Average: 52.3%\\n'\n",
      "                           '\\n'\n",
      "                           'Outcome: This passenger survived.\\n'\n",
      "                           '\\n',\n",
      "                'role': 'user'},\n",
      "               {'content': 'The largest positive contributor to why this '\n",
      "                           'passanger survived was her gender. The fact that '\n",
      "                           'this passanger was a female improved her survival '\n",
      "                           'by as much as 36.6%. The second largest '\n",
      "                           \"contributor was her ticket class: 'Middle', which \"\n",
      "                           'improved her chances of survival by 10.0%. She was '\n",
      "                           'among the 20.7% of all passengers who were in the '\n",
      "                           \"'Middle' ticket class. Unlike the majority of the \"\n",
      "                           'passengers (52.3%), she did not have any siblings, '\n",
      "                           'which improved her survival changes just slightly '\n",
      "                           'by 1.8%.',\n",
      "                'role': 'assistant'}]},\n",
      " {'messages': [{'content': 'You can parse tabular data that contains '\n",
      "                           'information about various attributes of a '\n",
      "                           'passanger who was on the Titanic ship. Each '\n",
      "                           \"attribute's contribution -- positive or negative \"\n",
      "                           \"-- to the passanger's survival is shown. The data \"\n",
      "                           'also shows the value of that attribute for this '\n",
      "                           'passanger as well as the value across all '\n",
      "                           'passangers on the shop. Do not make up any '\n",
      "                           'numbers. Use numbers provided in the dataset only '\n",
      "                           'and generate an explanation for why this person '\n",
      "                           'did or did not survive the crash.',\n",
      "                'role': 'system'},\n",
      "               {'content': 'Feature --> Sex: male = True, Contribution: '\n",
      "                           '-20.0%, Overall Average: 64.8%\\n'\n",
      "                           'Feature --> Cabin = True, Contribution: -3.6%, '\n",
      "                           'Overall Average: 77.1%\\n'\n",
      "                           'Feature --> Ticket Class: Upper = False, '\n",
      "                           'Contribution: -2.5%, Overall Average: 24.2%\\n'\n",
      "                           '\\n'\n",
      "                           'Outcome: This passenger did not Survive.\\n'\n",
      "                           '\\n',\n",
      "                'role': 'user'},\n",
      "               {'content': 'Unfortunately, this passenger did not survive, '\n",
      "                           'mainly driven by the fact that he was a male, '\n",
      "                           'which reduced his chance of survival by -20.0%. He '\n",
      "                           'stayed in a Cabin, and his ticket class was '\n",
      "                           \"'Upper', which further reduced his changes by \"\n",
      "                           '-3.6% and -2.5% respectively.',\n",
      "                'role': 'assistant'}]},\n",
      " {'messages': [{'content': 'You can parse tabular data that contains '\n",
      "                           'information about various attributes of a '\n",
      "                           'passanger who was on the Titanic ship. Each '\n",
      "                           \"attribute's contribution -- positive or negative \"\n",
      "                           \"-- to the passanger's survival is shown. The data \"\n",
      "                           'also shows the value of that attribute for this '\n",
      "                           'passanger as well as the value across all '\n",
      "                           'passangers on the shop. Do not make up any '\n",
      "                           'numbers. Use numbers provided in the dataset only '\n",
      "                           'and generate an explanation for why this person '\n",
      "                           'did or did not survive the crash.',\n",
      "                'role': 'system'},\n",
      "               {'content': 'Feature --> Sex: male = False, Contribution: '\n",
      "                           '25.0%, Overall Average: 64.8%\\n'\n",
      "                           'Feature --> Fare = $9, Contribution: -10.2%, '\n",
      "                           'Overall Average: $32.2\\n'\n",
      "                           'Feature --> Ticket Class: Middle = False, '\n",
      "                           'Contribution: -5.1%, Overall Average: 20.7%\\n'\n",
      "                           '\\n'\n",
      "                           'Outcome: This passenger did not Survive.\\n'\n",
      "                           '\\n',\n",
      "                'role': 'user'},\n",
      "               {'content': 'This passanger did not survive in spite of being a '\n",
      "                           'female which improved her chance of survival by '\n",
      "                           '25.0%. It helped that her $9 fare was much lower '\n",
      "                           'than the the average fare of $32.2 that everyone '\n",
      "                           'else paid. This had a negative contribution of '\n",
      "                           '-10.2% to her survival. Her ticket class was '\n",
      "                           \"'Middle', which further worsened her chance of \"\n",
      "                           'survival by -5.1%',\n",
      "                'role': 'assistant'}]},\n",
      " {'messages': [{'content': 'You can parse tabular data that contains '\n",
      "                           'information about various attributes of a '\n",
      "                           'passanger who was on the Titanic ship. Each '\n",
      "                           \"attribute's contribution -- positive or negative \"\n",
      "                           \"-- to the passanger's survival is shown. The data \"\n",
      "                           'also shows the value of that attribute for this '\n",
      "                           'passanger as well as the value across all '\n",
      "                           'passangers on the shop. Do not make up any '\n",
      "                           'numbers. Use numbers provided in the dataset only '\n",
      "                           'and generate an explanation for why this person '\n",
      "                           'did or did not survive the crash.',\n",
      "                'role': 'system'},\n",
      "               {'content': 'Feature --> Sex: male = True, Contribution: '\n",
      "                           '-15.3%, Overall Average: 64.8%\\n'\n",
      "                           'Feature --> Embarked: Southampton = False, '\n",
      "                           'Contribution: 6.2%, Overall Average: 72.3%\\n'\n",
      "                           'Feature --> Siblings = 2, Contribution: 3.0%, '\n",
      "                           'Overall Average: 0.5\\n'\n",
      "                           '\\n'\n",
      "                           'Outcome: This passenger survived.\\n'\n",
      "                           '\\n',\n",
      "                'role': 'user'},\n",
      "               {'content': 'This passanger did survive in spite of being a '\n",
      "                           'male which reduced his chance of survival by '\n",
      "                           '15.3%. It helped that he did not embark from '\n",
      "                           'Southampton and he was traveling with 2 siblings, '\n",
      "                           'which improved his probability of survival by 6.2% '\n",
      "                           'and 3.0% respectively.',\n",
      "                'role': 'assistant'}]},\n",
      " {'messages': [{'content': 'You can parse tabular data that contains '\n",
      "                           'information about various attributes of a '\n",
      "                           'passanger who was on the Titanic ship. Each '\n",
      "                           \"attribute's contribution -- positive or negative \"\n",
      "                           \"-- to the passanger's survival is shown. The data \"\n",
      "                           'also shows the value of that attribute for this '\n",
      "                           'passanger as well as the value across all '\n",
      "                           'passangers on the shop. Do not make up any '\n",
      "                           'numbers. Use numbers provided in the dataset only '\n",
      "                           'and generate an explanation for why this person '\n",
      "                           'did or did not survive the crash.',\n",
      "                'role': 'system'},\n",
      "               {'content': 'Feature --> Sex: male = True, Contribution: '\n",
      "                           '-12.9%, Overall Average: 64.8%\\n'\n",
      "                           'Feature --> Fare = $8, Contribution: -4.2%, '\n",
      "                           'Overall Average: $32.2\\n'\n",
      "                           'Feature --> Ticket Class: Upper = False, '\n",
      "                           'Contribution: -2.3%, Overall Average: 24.2%\\n'\n",
      "                           '\\n'\n",
      "                           'Outcome: This passenger did not Survive.\\n'\n",
      "                           '\\n',\n",
      "                'role': 'user'},\n",
      "               {'content': 'There were several factors that contributed to '\n",
      "                           'this passangers demise: being male contributed '\n",
      "                           '-12.9%, and having a lowe ticket fare -- only $8 '\n",
      "                           'as compared to the average of $32.2 that everyone '\n",
      "                           \"else paid -- contributed -4.2%. Also, it didn't \"\n",
      "                           \"help that his ticket class was not 'Upper'. This \"\n",
      "                           'reduced his chances of survival by -2.3%.',\n",
      "                'role': 'assistant'}]},\n",
      " {'messages': [{'content': 'You can parse tabular data that contains '\n",
      "                           'information about various attributes of a '\n",
      "                           'passanger who was on the Titanic ship. Each '\n",
      "                           \"attribute's contribution -- positive or negative \"\n",
      "                           \"-- to the passanger's survival is shown. The data \"\n",
      "                           'also shows the value of that attribute for this '\n",
      "                           'passanger as well as the value across all '\n",
      "                           'passangers on the shop. Do not make up any '\n",
      "                           'numbers. Use numbers provided in the dataset only '\n",
      "                           'and generate an explanation for why this person '\n",
      "                           'did or did not survive the crash.',\n",
      "                'role': 'system'},\n",
      "               {'content': 'Feature --> Sex: male = False, Contribution: '\n",
      "                           '26.9%, Overall Average: 64.8%\\n'\n",
      "                           'Feature --> Fare = $248, Contribution: 10.2%, '\n",
      "                           'Overall Average: $32.2\\n'\n",
      "                           'Feature --> Ticket Class: Upper = True, '\n",
      "                           'Contribution: 9.1%, Overall Average: 24.2%\\n'\n",
      "                           '\\n'\n",
      "                           'Outcome: This passenger survived.\\n'\n",
      "                           '\\n',\n",
      "                'role': 'user'},\n",
      "               {'content': 'She survived, largely due to the fact that she was '\n",
      "                           'a female. This contributed as much as 26.9% to her '\n",
      "                           'survival. She also paid a much higher fare of $248 '\n",
      "                           'as compared to $32.2 that everyone else paid on '\n",
      "                           'average. The higher fare helped her by 10.2%. '\n",
      "                           \"Lastly, her ticket class was 'Upper', which worked \"\n",
      "                           'in her favor by increasing her chance of survival '\n",
      "                           'by 9.1%.',\n",
      "                'role': 'assistant'}]},\n",
      " {'messages': [{'content': 'You can parse tabular data that contains '\n",
      "                           'information about various attributes of a '\n",
      "                           'passanger who was on the Titanic ship. Each '\n",
      "                           \"attribute's contribution -- positive or negative \"\n",
      "                           \"-- to the passanger's survival is shown. The data \"\n",
      "                           'also shows the value of that attribute for this '\n",
      "                           'passanger as well as the value across all '\n",
      "                           'passangers on the shop. Do not make up any '\n",
      "                           'numbers. Use numbers provided in the dataset only '\n",
      "                           'and generate an explanation for why this person '\n",
      "                           'did or did not survive the crash.',\n",
      "                'role': 'system'},\n",
      "               {'content': 'Feature --> Sex: male = True, Contribution: '\n",
      "                           '-16.1%, Overall Average: 64.8%\\n'\n",
      "                           'Feature --> Ticket Class: Upper = True, '\n",
      "                           'Contribution: 5.7%, Overall Average: 24.2%\\n'\n",
      "                           'Feature --> Fare = $28, Contribution: 4.5%, '\n",
      "                           'Overall Average: $32.2\\n'\n",
      "                           '\\n'\n",
      "                           'Outcome: This passenger did not Survive.\\n'\n",
      "                           '\\n',\n",
      "                'role': 'user'},\n",
      "               {'content': 'This passanger did not survive, mainly due to the '\n",
      "                           'fact that he was a male, which reduced his chance '\n",
      "                           'of survival by -16.1%. Two other factors, his '\n",
      "                           'ticket class (Upper) and low fare ($28), actually '\n",
      "                           'improved his chance of survival, by 5.7% and 4.5%, '\n",
      "                           'but this was not enough to overcome the negative '\n",
      "                           'factors.',\n",
      "                'role': 'assistant'}]},\n",
      " {'messages': [{'content': 'You can parse tabular data that contains '\n",
      "                           'information about various attributes of a '\n",
      "                           'passanger who was on the Titanic ship. Each '\n",
      "                           \"attribute's contribution -- positive or negative \"\n",
      "                           \"-- to the passanger's survival is shown. The data \"\n",
      "                           'also shows the value of that attribute for this '\n",
      "                           'passanger as well as the value across all '\n",
      "                           'passangers on the shop. Do not make up any '\n",
      "                           'numbers. Use numbers provided in the dataset only '\n",
      "                           'and generate an explanation for why this person '\n",
      "                           'did or did not survive the crash.',\n",
      "                'role': 'system'},\n",
      "               {'content': 'Feature --> Sex: male = False, Contribution: '\n",
      "                           '25.4%, Overall Average: 64.8%\\n'\n",
      "                           'Feature --> Fare = $228, Contribution: 10.2%, '\n",
      "                           'Overall Average: $32.2\\n'\n",
      "                           'Feature --> Ticket Class: Upper = True, '\n",
      "                           'Contribution: 9.1%, Overall Average: 24.2%\\n'\n",
      "                           '\\n'\n",
      "                           'Outcome: This passenger survived.\\n'\n",
      "                           '\\n',\n",
      "                'role': 'user'},\n",
      "               {'content': \"The biggest contributor to this passanger's \"\n",
      "                           'survial was the fact that she was a female. This '\n",
      "                           'increased her chance of survival by as much as '\n",
      "                           '25.4%. Her fare was also higher than the overall '\n",
      "                           'average: $228 as compared to $32.2 that everyone '\n",
      "                           'else paid on average. The fare further improved '\n",
      "                           'her chance of survival by 10.2%. It also helped '\n",
      "                           \"that her ticket class was 'Upper', which caused a \"\n",
      "                           'further increase of her chance of survival by '\n",
      "                           '9.1%.',\n",
      "                'role': 'assistant'}]},\n",
      " {'messages': [{'content': 'You can parse tabular data that contains '\n",
      "                           'information about various attributes of a '\n",
      "                           'passanger who was on the Titanic ship. Each '\n",
      "                           \"attribute's contribution -- positive or negative \"\n",
      "                           \"-- to the passanger's survival is shown. The data \"\n",
      "                           'also shows the value of that attribute for this '\n",
      "                           'passanger as well as the value across all '\n",
      "                           'passangers on the shop. Do not make up any '\n",
      "                           'numbers. Use numbers provided in the dataset only '\n",
      "                           'and generate an explanation for why this person '\n",
      "                           'did or did not survive the crash.',\n",
      "                'role': 'system'},\n",
      "               {'content': 'Feature --> Sex: male = False, Contribution: '\n",
      "                           '26.9%, Overall Average: 64.8%\\n'\n",
      "                           'Feature --> Fare = $248, Contribution: 10.2%, '\n",
      "                           'Overall Average: $32.2\\n'\n",
      "                           'Feature --> Ticket Class: Upper = True, '\n",
      "                           'Contribution: 9.1%, Overall Average: 24.2%\\n'\n",
      "                           '\\n'\n",
      "                           'Outcome: This passenger survived.\\n'\n",
      "                           '\\n',\n",
      "                'role': 'user'},\n",
      "               {'content': 'This passanger survived mostly because of her '\n",
      "                           'gender -- female -- which contributed 26.9% to her '\n",
      "                           'survival. Her higher fare ($248 as compared to '\n",
      "                           '$32.2 that everyone else paid on average) and her '\n",
      "                           \"ticket class ('Upper') further contributed \"\n",
      "                           'positively to her chance of survival by 10.2% and '\n",
      "                           '9.1%, respectively.',\n",
      "                'role': 'assistant'}]},\n",
      " {'messages': [{'content': 'You can parse tabular data that contains '\n",
      "                           'information about various attributes of a '\n",
      "                           'passanger who was on the Titanic ship. Each '\n",
      "                           \"attribute's contribution -- positive or negative \"\n",
      "                           \"-- to the passanger's survival is shown. The data \"\n",
      "                           'also shows the value of that attribute for this '\n",
      "                           'passanger as well as the value across all '\n",
      "                           'passangers on the shop. Do not make up any '\n",
      "                           'numbers. Use numbers provided in the dataset only '\n",
      "                           'and generate an explanation for why this person '\n",
      "                           'did or did not survive the crash.',\n",
      "                'role': 'system'},\n",
      "               {'content': 'Feature --> Sex: male = False, Contribution: '\n",
      "                           '27.0%, Overall Average: 64.8%\\n'\n",
      "                           'Feature --> Ticket Class: Middle = False, '\n",
      "                           'Contribution: -5.0%, Overall Average: 20.7%\\n'\n",
      "                           'Feature --> Embarked: Southampton = False, '\n",
      "                           'Contribution: 4.4%, Overall Average: 72.3%\\n'\n",
      "                           '\\n'\n",
      "                           'Outcome: This passenger did not Survive.\\n'\n",
      "                           '\\n',\n",
      "                'role': 'user'},\n",
      "               {'content': 'In spite of being a female, this passanger did not '\n",
      "                           'survive. He gender did contribute positively to '\n",
      "                           \"her surival, but other factors didn't work in her \"\n",
      "                           \"favor. For example, her ticket class, 'Middle', \"\n",
      "                           'reduced her chance of survival by -5.0%.',\n",
      "                'role': 'assistant'}]}]\n"
     ]
    }
   ],
   "source": [
    "messages = []\n",
    "\n",
    "for sample, expl in zip(samples, explanations):\n",
    "    messages_list = []\n",
    "\n",
    "    messages_list.append({'role': 'system',  'content': system_message})\n",
    "    messages_list.append({'role': 'user', 'content': sample})\n",
    "    messages_list.append({'role': 'assistant', 'content': expl})\n",
    "\n",
    "    msg = {\"messages\": messages_list}\n",
    "    messages.append(msg)\n",
    "    \n",
    "pprint(messages)  "
   ]
  },
  {
   "cell_type": "markdown",
   "id": "57b07d36-f81e-4228-aebf-06210a3fbd3f",
   "metadata": {},
   "source": [
    "We need to upload the file to OpenAI platform (so that it can be used for fine-tuning.) Let's create a local file first."
   ]
  },
  {
   "cell_type": "markdown",
   "id": "f32fe82e-521d-4086-8b27-1e986e3f6bdd",
   "metadata": {},
   "source": [
    "Note: The OpenAI batch API only supports `.jsonl` (JSON lines) files. "
   ]
  },
  {
   "cell_type": "code",
   "execution_count": 48,
   "id": "2995fb82-1b63-4a89-98d0-4a62d83dbf18",
   "metadata": {},
   "outputs": [],
   "source": [
    "def write_jsonl(data_list: list, filename: str) -> None:\n",
    "    with open(filename, \"w\") as out:\n",
    "        for ddict in data_list:\n",
    "            jout = json.dumps(ddict) + \"\\n\"\n",
    "            out.write(jout)\n",
    "\n",
    "training_file_name = \"../data/titanic_finetuning_samples.jsonl\"\n",
    "write_jsonl(messages, training_file_name)"
   ]
  },
  {
   "cell_type": "markdown",
   "id": "977656a7-fe22-4c28-86a5-19dfa9e07200",
   "metadata": {},
   "source": [
    "### Fine-tune LLM"
   ]
  },
  {
   "cell_type": "markdown",
   "id": "16ab7b02-5f33-40be-8e5e-7e7cf46cf55e",
   "metadata": {},
   "source": [
    "Now it's time to finally connect with OpenAI API."
   ]
  },
  {
   "cell_type": "code",
   "execution_count": 49,
   "id": "418b7e03-20bc-4ed2-b0ab-37264f6b2df4",
   "metadata": {},
   "outputs": [],
   "source": [
    "sys.path.append('../')\n",
    "load_dotenv('../.env')\n",
    "OPENAI_API_KEY = os.getenv(\"OPENAI_API_KEY\")"
   ]
  },
  {
   "cell_type": "code",
   "execution_count": 50,
   "id": "69a52ecc-1e43-459a-836b-d7c9bf780f87",
   "metadata": {},
   "outputs": [],
   "source": [
    "client = OpenAI(api_key=OPENAI_API_KEY)"
   ]
  },
  {
   "cell_type": "markdown",
   "id": "e942706f-103a-4baa-b06c-3d681321581a",
   "metadata": {},
   "source": [
    "Upload (create) the training dataset to OpenAI. Once uploaded, you will be able to view it at https://platform.openai.com/storage."
   ]
  },
  {
   "cell_type": "code",
   "execution_count": 51,
   "id": "7908463f-291a-4574-b245-cc7925624251",
   "metadata": {},
   "outputs": [],
   "source": [
    "upload_file_response = client.files.create(file=open(training_file_name, \"rb\"), purpose=\"fine-tune\")"
   ]
  },
  {
   "cell_type": "code",
   "execution_count": 52,
   "id": "8d25ebac-a96b-44ae-984c-bb6f970c2347",
   "metadata": {},
   "outputs": [
    {
     "data": {
      "text/plain": [
       "FileObject(id='file-knsBxQam59Dw4AV1ofpg23Ub', bytes=12200, created_at=1719847391, filename='titanic_finetuning_samples.jsonl', object='file', purpose='fine-tune', status='processed', status_details=None)"
      ]
     },
     "execution_count": 52,
     "metadata": {},
     "output_type": "execute_result"
    }
   ],
   "source": [
    "upload_file_response"
   ]
  },
  {
   "cell_type": "code",
   "execution_count": null,
   "id": "4ca88094-fdea-469c-8e8f-069e5733c66c",
   "metadata": {},
   "outputs": [],
   "source": [
    "We will need the file ID from this response later "
   ]
  },
  {
   "cell_type": "code",
   "execution_count": 53,
   "id": "44dbf479-5438-422b-88dd-ef9639c48dae",
   "metadata": {},
   "outputs": [
    {
     "data": {
      "text/plain": [
       "'file-knsBxQam59Dw4AV1ofpg23Ub'"
      ]
     },
     "execution_count": 53,
     "metadata": {},
     "output_type": "execute_result"
    }
   ],
   "source": [
    "training_file_id = upload_file_response.id\n",
    "training_file_id"
   ]
  },
  {
   "cell_type": "markdown",
   "id": "6b5e3cf8-8c54-477a-9f03-8ecb8c523f51",
   "metadata": {},
   "source": [
    "Let's quickly check to make sure that we can connect with OpenAI's chat completion API."
   ]
  },
  {
   "cell_type": "code",
   "execution_count": 54,
   "id": "9ae13e42-3162-49cf-b5e2-d64df36c2c86",
   "metadata": {},
   "outputs": [
    {
     "name": "stdout",
     "output_type": "stream",
     "text": [
      "\"\\n\\nThere are many things that could be going on, so it's hard to\"\n"
     ]
    }
   ],
   "source": [
    "try:\n",
    "  #Make your OpenAI API request here\n",
    "  response = client.completions.create(\n",
    "    prompt=\"What's up?\",\n",
    "    model=\"gpt-3.5-turbo-instruct\"\n",
    "  )\n",
    "except openai.APIError as e:\n",
    "  #Handle API error here, e.g. retry or log\n",
    "  print(f\"OpenAI API returned an API Error: {e}\")\n",
    "  pass\n",
    "except openai.APIConnectionError as e:\n",
    "  #Handle connection error here\n",
    "  print(f\"Failed to connect to OpenAI API: {e}\")\n",
    "  pass\n",
    "except openai.RateLimitError as e:\n",
    "  #Handle rate limit error (we recommend using exponential backoff)\n",
    "  print(f\"OpenAI API request exceeded rate limit: {e}\")\n",
    "  pass\n",
    "\n",
    "pprint(response.choices[0].text)"
   ]
  },
  {
   "cell_type": "markdown",
   "id": "641309cc-917b-45fd-90ac-5562f7cc8e67",
   "metadata": {},
   "source": [
    "Yes, we got some response, so we're good! If you caught an exception here then something is wrong."
   ]
  },
  {
   "cell_type": "markdown",
   "id": "db1ee40f-da3f-46a0-a57c-a0adc4aa2687",
   "metadata": {},
   "source": [
    "Now we are ready to fine-tune the model"
   ]
  },
  {
   "cell_type": "code",
   "execution_count": 57,
   "id": "e96eb191-4703-4463-a977-91ec6094f1bc",
   "metadata": {},
   "outputs": [],
   "source": [
    "response = client.fine_tuning.jobs.create(training_file=training_file_id,\n",
    "                                          model=\"gpt-3.5-turbo\")"
   ]
  },
  {
   "cell_type": "code",
   "execution_count": 58,
   "id": "380d727d-0848-4fe6-8257-32fa35a120e7",
   "metadata": {},
   "outputs": [
    {
     "data": {
      "text/plain": [
       "FineTuningJob(id='ftjob-UbwdR87ErSMiOfYvC57fSTWT', created_at=1719847578, error=Error(code=None, message=None, param=None), fine_tuned_model=None, finished_at=None, hyperparameters=Hyperparameters(n_epochs='auto', batch_size='auto', learning_rate_multiplier='auto'), model='gpt-3.5-turbo-0125', object='fine_tuning.job', organization_id='org-YzAUwDK6A4v8MmfykJSmk3c6', result_files=[], seed=1544328055, status='validating_files', trained_tokens=None, training_file='file-knsBxQam59Dw4AV1ofpg23Ub', validation_file=None, estimated_finish=None, integrations=[], user_provided_suffix=None)"
      ]
     },
     "execution_count": 58,
     "metadata": {},
     "output_type": "execute_result"
    }
   ],
   "source": [
    "response"
   ]
  },
  {
   "cell_type": "code",
   "execution_count": 67,
   "id": "18bde76c-fe58-42bb-b13f-b51a0ab26efb",
   "metadata": {},
   "outputs": [
    {
     "data": {
      "text/plain": [
       "'validating_files'"
      ]
     },
     "execution_count": 67,
     "metadata": {},
     "output_type": "execute_result"
    }
   ],
   "source": [
    "response.status"
   ]
  },
  {
   "cell_type": "markdown",
   "id": "3e7db011-38b9-4d97-914f-c8cc218ec437",
   "metadata": {},
   "source": [
    "This should take about ten minutes. You can view the progress on https://platform.openai.com/finetune. Once the job completes, you should see something like this:"
   ]
  },
  {
   "cell_type": "markdown",
   "id": "410fff63-9cda-4569-982e-5954988fc9b6",
   "metadata": {},
   "source": [
    "<img src='../img/openai_fine-tuning_status_complete.png' width=400>"
   ]
  },
  {
   "cell_type": "markdown",
   "id": "d17040cc-9ef5-4549-ba4b-2cc9df18b407",
   "metadata": {},
   "source": [
    "Let's grab the model ID from the response. We will need to use this for inference."
   ]
  },
  {
   "cell_type": "code",
   "execution_count": 76,
   "id": "2566f16e-e3d6-408c-a1b6-c2d315c18824",
   "metadata": {},
   "outputs": [
    {
     "data": {
      "text/plain": [
       "'ftjob-UbwdR87ErSMiOfYvC57fSTWT'"
      ]
     },
     "execution_count": 76,
     "metadata": {},
     "output_type": "execute_result"
    }
   ],
   "source": [
    "job_id = response.id\n",
    "job_id"
   ]
  },
  {
   "cell_type": "code",
   "execution_count": 79,
   "id": "924127fd-29ab-40fd-b50f-89fb4f5d93e4",
   "metadata": {},
   "outputs": [
    {
     "data": {
      "text/plain": [
       "FineTuningJob(id='ftjob-UbwdR87ErSMiOfYvC57fSTWT', created_at=1719847578, error=Error(code=None, message=None, param=None), fine_tuned_model='ft:gpt-3.5-turbo-0125:derive::9gDKMH5F', finished_at=1719848033, hyperparameters=Hyperparameters(n_epochs=10, batch_size=1, learning_rate_multiplier=2), model='gpt-3.5-turbo-0125', object='fine_tuning.job', organization_id='org-YzAUwDK6A4v8MmfykJSmk3c6', result_files=['file-jyLTChcC1jFlpcIwtO7SUBUy'], seed=1544328055, status='succeeded', trained_tokens=26610, training_file='file-knsBxQam59Dw4AV1ofpg23Ub', validation_file=None, estimated_finish=None, integrations=[], user_provided_suffix=None)"
      ]
     },
     "execution_count": 79,
     "metadata": {},
     "output_type": "execute_result"
    }
   ],
   "source": [
    "response = client.fine_tuning.jobs.retrieve(job_id)\n",
    "response"
   ]
  },
  {
   "cell_type": "code",
   "execution_count": 82,
   "id": "9a98c71d-3131-4160-aa60-be70b6ebcc1c",
   "metadata": {},
   "outputs": [
    {
     "data": {
      "text/plain": [
       "'ft:gpt-3.5-turbo-0125:derive::9gDKMH5F'"
      ]
     },
     "execution_count": 82,
     "metadata": {},
     "output_type": "execute_result"
    }
   ],
   "source": [
    "model_id = response.fine_tuned_model\n",
    "model_id"
   ]
  },
  {
   "cell_type": "markdown",
   "id": "7aa1890b-1ea9-4c0b-aa40-67da07940781",
   "metadata": {},
   "source": [
    "### Make Inference"
   ]
  },
  {
   "cell_type": "markdown",
   "id": "570d7e65-18b3-45d7-8824-3358a1d755cf",
   "metadata": {},
   "source": [
    "Take a sample passenger and create a test data point."
   ]
  },
  {
   "cell_type": "code",
   "execution_count": 83,
   "id": "e920286b-f285-4c9b-9de5-300fd7f9025d",
   "metadata": {},
   "outputs": [
    {
     "name": "stdout",
     "output_type": "stream",
     "text": [
      "           contribution  abs_contribution  overall_avg value\n",
      "Sex: male     -0.123660          0.123660     0.647587  True\n",
      "Fare          -0.034322          0.034322    32.204208   9.5\n",
      "Cabin         -0.027327          0.027327     0.771044  True\n"
     ]
    },
    {
     "data": {
      "text/plain": [
       "'Feature --> Sex: male = True, Contribution: -12.4%, Overall Average: 64.8%\\nFeature --> Fare = $10, Contribution: -3.4%, Overall Average: $32.2\\nFeature --> Cabin = True, Contribution: -2.7%, Overall Average: 77.1%\\n\\nOutcome: This passenger did not Survive.\\n\\n'"
      ]
     },
     "execution_count": 83,
     "metadata": {},
     "output_type": "execute_result"
    }
   ],
   "source": [
    "sample_test = get_sample(200, False)\n",
    "sample_test"
   ]
  },
  {
   "cell_type": "code",
   "execution_count": 85,
   "id": "648accbe-53c8-4839-994c-a310441d5796",
   "metadata": {},
   "outputs": [
    {
     "name": "stdout",
     "output_type": "stream",
     "text": [
      "[{'role': 'system', 'content': \"You can parse tabular data that contains information about various attributes of a passanger who was on the Titanic ship. Each attribute's contribution -- positive or negative -- to the passanger's survival is shown. The data also shows the value of that attribute for this passanger as well as the value across all passangers on the shop. Do not make up any numbers. Use numbers provided in the dataset only and generate an explanation for why this person did or did not survive the crash.\"}, {'role': 'user', 'content': 'Feature --> Sex: male = True, Contribution: -12.4%, Overall Average: 64.8%\\nFeature --> Fare = $10, Contribution: -3.4%, Overall Average: $32.2\\nFeature --> Cabin = True, Contribution: -2.7%, Overall Average: 77.1%\\n\\nOutcome: This passenger did not Survive.\\n\\n'}]\n"
     ]
    }
   ],
   "source": [
    "test_message = []\n",
    "\n",
    "test_message.append({\"role\": \"system\", \"content\": system_message})\n",
    "test_message.append({\"role\": \"user\", \"content\": sample_test})\n",
    "\n",
    "print(test_message)"
   ]
  },
  {
   "cell_type": "markdown",
   "id": "e79dd979-f3d5-4c4b-82ce-4c7299a4a3bd",
   "metadata": {},
   "source": [
    "Notice that we are not providing the explanation this time. We would like the trained model to provide the explanation for why this passenger did not survive."
   ]
  },
  {
   "cell_type": "code",
   "execution_count": 86,
   "id": "8d251985-93dc-44ad-8dfb-4d269e35012a",
   "metadata": {},
   "outputs": [
    {
     "data": {
      "text/plain": [
       "ChatCompletion(id='chatcmpl-9gDhbgUHk1UdzypEIX0eGVzGsdpPX', choices=[Choice(finish_reason='stop', index=0, logprobs=None, message=ChatCompletionMessage(content='This passanger did not survive, mainly driven by the fact that he was a male, which reduced his chance of survival by -12.4%. He also paid a lower fare -- only $10 as compared to the average of $32.2 that everyone else paid. The low fare further reduced his chance of survival by -3.4%. He stayed in a cabin, just like 77.1% of all passengers, which reduced his chance of survival a little bit by -2.7%.', role='assistant', function_call=None, tool_calls=None))], created=1719849475, model='ft:gpt-3.5-turbo-0125:derive::9gDKMH5F', object='chat.completion', service_tier=None, system_fingerprint=None, usage=CompletionUsage(completion_tokens=102, prompt_tokens=183, total_tokens=285))"
      ]
     },
     "execution_count": 86,
     "metadata": {},
     "output_type": "execute_result"
    }
   ],
   "source": [
    "response = client.chat.completions.create(model=model_id,\n",
    "                                          messages=test_message,\n",
    "                                          temperature=0,\n",
    "                                          max_tokens=500)\n",
    "\n",
    "response"
   ]
  },
  {
   "cell_type": "markdown",
   "id": "5b027faf-3a16-4070-924c-f604af91f5ec",
   "metadata": {},
   "source": [
    "Great! It's provided the explanation, but it's buried in the `ChatCompletion()` object. Let's dig it out."
   ]
  },
  {
   "cell_type": "code",
   "execution_count": 97,
   "id": "11e538a6-7c24-4cd5-888b-7087df80950c",
   "metadata": {},
   "outputs": [
    {
     "data": {
      "text/plain": [
       "'This passanger did not survive, mainly driven by the fact that he was a male, which reduced his chance of survival by -12.4%. He also paid a lower fare -- only $10 as compared to the average of $32.2 that everyone else paid. The low fare further reduced his chance of survival by -3.4%. He stayed in a cabin, just like 77.1% of all passengers, which reduced his chance of survival a little bit by -2.7%.'"
      ]
     },
     "execution_count": 97,
     "metadata": {},
     "output_type": "execute_result"
    }
   ],
   "source": [
    "response.choices[0].message.content"
   ]
  },
  {
   "cell_type": "markdown",
   "id": "f648ae47-0c80-4d4a-8a00-c06836799ec3",
   "metadata": {},
   "source": [
    "This makes sense. Let's compare it with the data."
   ]
  },
  {
   "cell_type": "code",
   "execution_count": 98,
   "id": "d3e87a90-731d-4ea7-97ed-3bad50150a5f",
   "metadata": {},
   "outputs": [
    {
     "data": {
      "text/plain": [
       "'Feature --> Sex: male = True, Contribution: -12.4%, Overall Average: 64.8%\\nFeature --> Fare = $10, Contribution: -3.4%, Overall Average: $32.2\\nFeature --> Cabin = True, Contribution: -2.7%, Overall Average: 77.1%\\n\\nOutcome: This passenger did not Survive.\\n\\n'"
      ]
     },
     "execution_count": 98,
     "metadata": {},
     "output_type": "execute_result"
    }
   ],
   "source": [
    "sample_test"
   ]
  },
  {
   "cell_type": "markdown",
   "id": "e4e45966-27cc-4a72-8d5e-aa21e4bb649f",
   "metadata": {},
   "source": [
    "Yay! The explanation aligns with the Shapley values and the overall means. As instructed, the model did not make up any data; all percentages etc. are extracted directly from the prompt."
   ]
  },
  {
   "cell_type": "markdown",
   "id": "064fadee-22e2-4579-924d-b6ae0ebdfa0b",
   "metadata": {},
   "source": [
    "### Build a Gradio UI"
   ]
  },
  {
   "cell_type": "markdown",
   "id": "c649bad4-2cd1-4455-a3cc-50bfe233bca2",
   "metadata": {},
   "source": [
    "We will not create a simple Gradio app to display these results. We will give the user an ability to pick any passenger."
   ]
  },
  {
   "cell_type": "code",
   "execution_count": 101,
   "id": "34b4482b-38b4-441d-a88b-a4bc23b880e1",
   "metadata": {},
   "outputs": [
    {
     "data": {
      "text/plain": [
       "['Braund, Mr. Owen Harris',\n",
       " 'Cumings, Mrs. John Bradley (Florence Briggs Thayer)',\n",
       " 'Heikkinen, Miss. Laina',\n",
       " 'Futrelle, Mrs. Jacques Heath (Lily May Peel)',\n",
       " 'Allen, Mr. William Henry']"
      ]
     },
     "execution_count": 101,
     "metadata": {},
     "output_type": "execute_result"
    }
   ],
   "source": [
    "# the index contains the full names of passengers\n",
    "indices = df.index.tolist()\n",
    "indices[:5]"
   ]
  },
  {
   "cell_type": "code",
   "execution_count": 116,
   "id": "a7693f47-82a4-42a7-8cf3-14d405e83289",
   "metadata": {},
   "outputs": [
    {
     "name": "stdout",
     "output_type": "stream",
     "text": [
      "Running on local URL:  http://127.0.0.1:7869\n",
      "\n",
      "To create a public link, set `share=True` in `launch()`.\n"
     ]
    },
    {
     "data": {
      "text/html": [
       "<div><iframe src=\"http://127.0.0.1:7869/\" width=\"100%\" height=\"500\" allow=\"autoplay; camera; microphone; clipboard-read; clipboard-write;\" frameborder=\"0\" allowfullscreen></iframe></div>"
      ],
      "text/plain": [
       "<IPython.core.display.HTML object>"
      ]
     },
     "metadata": {},
     "output_type": "display_data"
    },
    {
     "data": {
      "text/plain": []
     },
     "execution_count": 116,
     "metadata": {},
     "output_type": "execute_result"
    }
   ],
   "source": [
    "def get_gpt_response(index_label):\n",
    "    '''Use the trained model to convert the Shapley output into plain English summary\n",
    "    '''\n",
    "    message = []\n",
    "    message.append({\"role\": \"system\", \"content\": system_message})\n",
    "\n",
    "    sample_id_location = df.index.get_loc(index_label)\n",
    "    prompt = get_sample(sample_id_location, False)\n",
    "    \n",
    "    message.append({\"role\": \"user\", \"content\": prompt})\n",
    "\n",
    "    response = client.chat.completions.create(model=model_id,\n",
    "                                              messages=message,\n",
    "                                              temperature=0,\n",
    "                                              max_tokens=500)\n",
    "    return response.choices[0].message.content\n",
    "\n",
    "def shap_analysis(index_label):\n",
    "    '''For the given passenger, perform Shapley analysis and generate the waterfall chart\n",
    "    '''\n",
    "    sample_id_location = df.index.get_loc(index_label)\n",
    "\n",
    "    _shap_values = shap_values[sample_id_location, :, 1]\n",
    "\n",
    "    fig, ax = plt.subplots(figsize=(10, 10))\n",
    "    shap.plots.waterfall(_shap_values, max_display=5)\n",
    "    #plt.title('Shapley Values')\n",
    "    plt.tight_layout()\n",
    "\n",
    "    tmp_file = tempfile.NamedTemporaryFile(suffix='.png', delete=False)\n",
    "    plt.savefig(tmp_file.name)\n",
    "    plt.close(fig)\n",
    "\n",
    "    return tmp_file.name\n",
    "\n",
    "def combined_interface(index_label):\n",
    "    '''Shapley analysis + summarization by LLM\n",
    "    '''\n",
    "    gpt_response = get_gpt_response(index_label)\n",
    "    shap_fig = shap_analysis(index_label)\n",
    "    \n",
    "    return gpt_response, shap_fig\n",
    "\n",
    "with gr.Blocks() as titanic:\n",
    "    gr.Markdown('# Titanic Passenger Survival Analysis')\n",
    "    with gr.Row():\n",
    "        index_label = gr.Dropdown(choices=indices, label='Select a passanger:')\n",
    "    with gr.Row():\n",
    "        submit_button = gr.Button('Submit')\n",
    "    with gr.Row():\n",
    "        gpt_output = gr.Textbox(label='LLM Explanation:')\n",
    "    with gr.Row():\n",
    "        shap_output = gr.Image(type=\"filepath\", label=\"Feature Contributions\")\n",
    "    \n",
    "    submit_button.click(combined_interface, inputs=index_label, outputs=[gpt_output, shap_output])\n",
    "\n",
    "titanic.launch()"
   ]
  }
 ],
 "metadata": {
  "kernelspec": {
   "display_name": "Python 3 (ipykernel)",
   "language": "python",
   "name": "python3"
  },
  "language_info": {
   "codemirror_mode": {
    "name": "ipython",
    "version": 3
   },
   "file_extension": ".py",
   "mimetype": "text/x-python",
   "name": "python",
   "nbconvert_exporter": "python",
   "pygments_lexer": "ipython3",
   "version": "3.10.12"
  }
 },
 "nbformat": 4,
 "nbformat_minor": 5
}
